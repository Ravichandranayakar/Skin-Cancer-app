{
 "cells": [
  {
   "cell_type": "markdown",
   "id": "7eb03072",
   "metadata": {},
   "source": [
    "# Project Name -----> Skin Cancer Detection"
   ]
  },
  {
   "cell_type": "code",
   "execution_count": 2,
   "id": "51cba6a0",
   "metadata": {},
   "outputs": [],
   "source": [
    "# importing requred libararies \n",
    "import os\n",
    "import pandas as pd\n",
    "import numpy as np\n",
    "import matplotlib.pyplot as plt\n",
    "import seaborn as sns\n",
    "import cv2\n",
    "from sklearn.preprocessing import StandardScaler\n",
    "from sklearn.neighbors import KNeighborsClassifier \n",
    "from sklearn.ensemble import RandomForestClassifier\n",
    "from sklearn.compose import ColumnTransformer\n",
    "from sklearn.preprocessing import LabelEncoder\n",
    "from sklearn.metrics import accuracy_score \n",
    "from sklearn.model_selection import train_test_split\n",
    "from sklearn.metrics import classification_report , f1_score  , confusion_matrix , accuracy_score ,roc_auc_score , roc_curve"
   ]
  },
  {
   "cell_type": "code",
   "execution_count": 3,
   "id": "73a26c79",
   "metadata": {},
   "outputs": [],
   "source": [
    "# Load the labels\n",
    "skin_data = pd.read_csv('skin_cancer_labels.csv') \n",
    "skin_data  =  skin_data.copy()"
   ]
  },
  {
   "cell_type": "code",
   "execution_count": 4,
   "id": "5cc9af15",
   "metadata": {},
   "outputs": [
    {
     "data": {
      "text/html": [
       "<div>\n",
       "<style scoped>\n",
       "    .dataframe tbody tr th:only-of-type {\n",
       "        vertical-align: middle;\n",
       "    }\n",
       "\n",
       "    .dataframe tbody tr th {\n",
       "        vertical-align: top;\n",
       "    }\n",
       "\n",
       "    .dataframe thead th {\n",
       "        text-align: right;\n",
       "    }\n",
       "</style>\n",
       "<table border=\"1\" class=\"dataframe\">\n",
       "  <thead>\n",
       "    <tr style=\"text-align: right;\">\n",
       "      <th></th>\n",
       "      <th>isic_id</th>\n",
       "      <th>attribution</th>\n",
       "      <th>copyright_license</th>\n",
       "      <th>age_approx</th>\n",
       "      <th>anatom_site_general</th>\n",
       "      <th>anatom_site_special</th>\n",
       "      <th>clin_size_long_diam_mm</th>\n",
       "      <th>concomitant_biopsy</th>\n",
       "      <th>dermoscopic_type</th>\n",
       "      <th>diagnosis_1</th>\n",
       "      <th>...</th>\n",
       "      <th>diagnosis_confirm_type</th>\n",
       "      <th>family_hx_mm</th>\n",
       "      <th>image_type</th>\n",
       "      <th>lesion_id</th>\n",
       "      <th>melanocytic</th>\n",
       "      <th>patient_id</th>\n",
       "      <th>personal_hx_mm</th>\n",
       "      <th>pixels_x</th>\n",
       "      <th>pixels_y</th>\n",
       "      <th>sex</th>\n",
       "    </tr>\n",
       "  </thead>\n",
       "  <tbody>\n",
       "    <tr>\n",
       "      <th>0</th>\n",
       "      <td>ISIC_0000000</td>\n",
       "      <td>Anonymous</td>\n",
       "      <td>CC-0</td>\n",
       "      <td>55.0</td>\n",
       "      <td>anterior torso</td>\n",
       "      <td>NaN</td>\n",
       "      <td>NaN</td>\n",
       "      <td>False</td>\n",
       "      <td>NaN</td>\n",
       "      <td>Benign</td>\n",
       "      <td>...</td>\n",
       "      <td>NaN</td>\n",
       "      <td>NaN</td>\n",
       "      <td>dermoscopic</td>\n",
       "      <td>NaN</td>\n",
       "      <td>True</td>\n",
       "      <td>NaN</td>\n",
       "      <td>NaN</td>\n",
       "      <td>1022</td>\n",
       "      <td>767</td>\n",
       "      <td>female</td>\n",
       "    </tr>\n",
       "    <tr>\n",
       "      <th>1</th>\n",
       "      <td>ISIC_0000001</td>\n",
       "      <td>Anonymous</td>\n",
       "      <td>CC-0</td>\n",
       "      <td>30.0</td>\n",
       "      <td>anterior torso</td>\n",
       "      <td>NaN</td>\n",
       "      <td>NaN</td>\n",
       "      <td>False</td>\n",
       "      <td>NaN</td>\n",
       "      <td>Benign</td>\n",
       "      <td>...</td>\n",
       "      <td>NaN</td>\n",
       "      <td>NaN</td>\n",
       "      <td>dermoscopic</td>\n",
       "      <td>NaN</td>\n",
       "      <td>True</td>\n",
       "      <td>NaN</td>\n",
       "      <td>NaN</td>\n",
       "      <td>1022</td>\n",
       "      <td>767</td>\n",
       "      <td>female</td>\n",
       "    </tr>\n",
       "    <tr>\n",
       "      <th>2</th>\n",
       "      <td>ISIC_0000002</td>\n",
       "      <td>Anonymous</td>\n",
       "      <td>CC-0</td>\n",
       "      <td>60.0</td>\n",
       "      <td>upper extremity</td>\n",
       "      <td>NaN</td>\n",
       "      <td>NaN</td>\n",
       "      <td>True</td>\n",
       "      <td>NaN</td>\n",
       "      <td>Malignant</td>\n",
       "      <td>...</td>\n",
       "      <td>histopathology</td>\n",
       "      <td>NaN</td>\n",
       "      <td>dermoscopic</td>\n",
       "      <td>NaN</td>\n",
       "      <td>True</td>\n",
       "      <td>NaN</td>\n",
       "      <td>NaN</td>\n",
       "      <td>1022</td>\n",
       "      <td>767</td>\n",
       "      <td>female</td>\n",
       "    </tr>\n",
       "    <tr>\n",
       "      <th>3</th>\n",
       "      <td>ISIC_0000003</td>\n",
       "      <td>Anonymous</td>\n",
       "      <td>CC-0</td>\n",
       "      <td>30.0</td>\n",
       "      <td>upper extremity</td>\n",
       "      <td>NaN</td>\n",
       "      <td>NaN</td>\n",
       "      <td>False</td>\n",
       "      <td>NaN</td>\n",
       "      <td>Benign</td>\n",
       "      <td>...</td>\n",
       "      <td>NaN</td>\n",
       "      <td>NaN</td>\n",
       "      <td>dermoscopic</td>\n",
       "      <td>NaN</td>\n",
       "      <td>True</td>\n",
       "      <td>NaN</td>\n",
       "      <td>NaN</td>\n",
       "      <td>1022</td>\n",
       "      <td>767</td>\n",
       "      <td>male</td>\n",
       "    </tr>\n",
       "    <tr>\n",
       "      <th>4</th>\n",
       "      <td>ISIC_0000004</td>\n",
       "      <td>Anonymous</td>\n",
       "      <td>CC-0</td>\n",
       "      <td>80.0</td>\n",
       "      <td>posterior torso</td>\n",
       "      <td>NaN</td>\n",
       "      <td>NaN</td>\n",
       "      <td>True</td>\n",
       "      <td>NaN</td>\n",
       "      <td>Malignant</td>\n",
       "      <td>...</td>\n",
       "      <td>histopathology</td>\n",
       "      <td>NaN</td>\n",
       "      <td>dermoscopic</td>\n",
       "      <td>NaN</td>\n",
       "      <td>True</td>\n",
       "      <td>NaN</td>\n",
       "      <td>NaN</td>\n",
       "      <td>1022</td>\n",
       "      <td>767</td>\n",
       "      <td>male</td>\n",
       "    </tr>\n",
       "  </tbody>\n",
       "</table>\n",
       "<p>5 rows × 24 columns</p>\n",
       "</div>"
      ],
      "text/plain": [
       "        isic_id attribution copyright_license  age_approx anatom_site_general  \\\n",
       "0  ISIC_0000000   Anonymous              CC-0        55.0      anterior torso   \n",
       "1  ISIC_0000001   Anonymous              CC-0        30.0      anterior torso   \n",
       "2  ISIC_0000002   Anonymous              CC-0        60.0     upper extremity   \n",
       "3  ISIC_0000003   Anonymous              CC-0        30.0     upper extremity   \n",
       "4  ISIC_0000004   Anonymous              CC-0        80.0     posterior torso   \n",
       "\n",
       "  anatom_site_special  clin_size_long_diam_mm  concomitant_biopsy  \\\n",
       "0                 NaN                     NaN               False   \n",
       "1                 NaN                     NaN               False   \n",
       "2                 NaN                     NaN                True   \n",
       "3                 NaN                     NaN               False   \n",
       "4                 NaN                     NaN                True   \n",
       "\n",
       "  dermoscopic_type diagnosis_1  ... diagnosis_confirm_type family_hx_mm  \\\n",
       "0              NaN      Benign  ...                    NaN          NaN   \n",
       "1              NaN      Benign  ...                    NaN          NaN   \n",
       "2              NaN   Malignant  ...         histopathology          NaN   \n",
       "3              NaN      Benign  ...                    NaN          NaN   \n",
       "4              NaN   Malignant  ...         histopathology          NaN   \n",
       "\n",
       "    image_type lesion_id melanocytic patient_id personal_hx_mm pixels_x  \\\n",
       "0  dermoscopic       NaN        True        NaN            NaN     1022   \n",
       "1  dermoscopic       NaN        True        NaN            NaN     1022   \n",
       "2  dermoscopic       NaN        True        NaN            NaN     1022   \n",
       "3  dermoscopic       NaN        True        NaN            NaN     1022   \n",
       "4  dermoscopic       NaN        True        NaN            NaN     1022   \n",
       "\n",
       "   pixels_y     sex  \n",
       "0       767  female  \n",
       "1       767  female  \n",
       "2       767  female  \n",
       "3       767    male  \n",
       "4       767    male  \n",
       "\n",
       "[5 rows x 24 columns]"
      ]
     },
     "execution_count": 4,
     "metadata": {},
     "output_type": "execute_result"
    }
   ],
   "source": [
    "skin_data.head()"
   ]
  },
  {
   "cell_type": "code",
   "execution_count": 5,
   "id": "1d96c8ed",
   "metadata": {},
   "outputs": [
    {
     "name": "stdout",
     "output_type": "stream",
     "text": [
      "<class 'pandas.core.frame.DataFrame'>\n",
      "RangeIndex: 2000 entries, 0 to 1999\n",
      "Data columns (total 24 columns):\n",
      " #   Column                  Non-Null Count  Dtype  \n",
      "---  ------                  --------------  -----  \n",
      " 0   isic_id                 2000 non-null   object \n",
      " 1   attribution             2000 non-null   object \n",
      " 2   copyright_license       2000 non-null   object \n",
      " 3   age_approx              1744 non-null   float64\n",
      " 4   anatom_site_general     1529 non-null   object \n",
      " 5   anatom_site_special     39 non-null     object \n",
      " 6   clin_size_long_diam_mm  462 non-null    float64\n",
      " 7   concomitant_biopsy      2000 non-null   bool   \n",
      " 8   dermoscopic_type        810 non-null    object \n",
      " 9   diagnosis_1             2000 non-null   object \n",
      " 10  diagnosis_2             2000 non-null   object \n",
      " 11  diagnosis_3             1999 non-null   object \n",
      " 12  diagnosis_4             646 non-null    object \n",
      " 13  diagnosis_5             248 non-null    object \n",
      " 14  diagnosis_confirm_type  1658 non-null   object \n",
      " 15  family_hx_mm            452 non-null    object \n",
      " 16  image_type              2000 non-null   object \n",
      " 17  lesion_id               754 non-null    object \n",
      " 18  melanocytic             2000 non-null   bool   \n",
      " 19  patient_id              137 non-null    object \n",
      " 20  personal_hx_mm          461 non-null    object \n",
      " 21  pixels_x                2000 non-null   int64  \n",
      " 22  pixels_y                2000 non-null   int64  \n",
      " 23  sex                     1771 non-null   object \n",
      "dtypes: bool(2), float64(2), int64(2), object(18)\n",
      "memory usage: 347.8+ KB\n"
     ]
    }
   ],
   "source": [
    "skin_data.info()"
   ]
  },
  {
   "cell_type": "code",
   "execution_count": 6,
   "id": "67183891",
   "metadata": {},
   "outputs": [
    {
     "data": {
      "text/plain": [
       "['isic_id',\n",
       " 'attribution',\n",
       " 'copyright_license',\n",
       " 'age_approx',\n",
       " 'anatom_site_general',\n",
       " 'anatom_site_special',\n",
       " 'clin_size_long_diam_mm',\n",
       " 'concomitant_biopsy',\n",
       " 'dermoscopic_type',\n",
       " 'diagnosis_1',\n",
       " 'diagnosis_2',\n",
       " 'diagnosis_3',\n",
       " 'diagnosis_4',\n",
       " 'diagnosis_5',\n",
       " 'diagnosis_confirm_type',\n",
       " 'family_hx_mm',\n",
       " 'image_type',\n",
       " 'lesion_id',\n",
       " 'melanocytic',\n",
       " 'patient_id',\n",
       " 'personal_hx_mm',\n",
       " 'pixels_x',\n",
       " 'pixels_y',\n",
       " 'sex']"
      ]
     },
     "execution_count": 6,
     "metadata": {},
     "output_type": "execute_result"
    }
   ],
   "source": [
    "skin_data.columns.to_list()"
   ]
  },
  {
   "cell_type": "code",
   "execution_count": 7,
   "id": "81e3e959",
   "metadata": {},
   "outputs": [
    {
     "data": {
      "text/html": [
       "<div>\n",
       "<style scoped>\n",
       "    .dataframe tbody tr th:only-of-type {\n",
       "        vertical-align: middle;\n",
       "    }\n",
       "\n",
       "    .dataframe tbody tr th {\n",
       "        vertical-align: top;\n",
       "    }\n",
       "\n",
       "    .dataframe thead th {\n",
       "        text-align: right;\n",
       "    }\n",
       "</style>\n",
       "<table border=\"1\" class=\"dataframe\">\n",
       "  <thead>\n",
       "    <tr style=\"text-align: right;\">\n",
       "      <th></th>\n",
       "      <th>age_approx</th>\n",
       "      <th>clin_size_long_diam_mm</th>\n",
       "      <th>pixels_x</th>\n",
       "      <th>pixels_y</th>\n",
       "    </tr>\n",
       "  </thead>\n",
       "  <tbody>\n",
       "    <tr>\n",
       "      <th>count</th>\n",
       "      <td>1744.000000</td>\n",
       "      <td>462.000000</td>\n",
       "      <td>2000.000000</td>\n",
       "      <td>2000.000000</td>\n",
       "    </tr>\n",
       "    <tr>\n",
       "      <th>mean</th>\n",
       "      <td>49.033830</td>\n",
       "      <td>6.030952</td>\n",
       "      <td>2734.293000</td>\n",
       "      <td>1877.673000</td>\n",
       "    </tr>\n",
       "    <tr>\n",
       "      <th>std</th>\n",
       "      <td>19.731372</td>\n",
       "      <td>5.512854</td>\n",
       "      <td>1682.314035</td>\n",
       "      <td>1081.419839</td>\n",
       "    </tr>\n",
       "    <tr>\n",
       "      <th>min</th>\n",
       "      <td>5.000000</td>\n",
       "      <td>1.000000</td>\n",
       "      <td>576.000000</td>\n",
       "      <td>540.000000</td>\n",
       "    </tr>\n",
       "    <tr>\n",
       "      <th>25%</th>\n",
       "      <td>35.000000</td>\n",
       "      <td>4.000000</td>\n",
       "      <td>1024.000000</td>\n",
       "      <td>768.000000</td>\n",
       "    </tr>\n",
       "    <tr>\n",
       "      <th>50%</th>\n",
       "      <td>50.000000</td>\n",
       "      <td>5.000000</td>\n",
       "      <td>3008.000000</td>\n",
       "      <td>2000.000000</td>\n",
       "    </tr>\n",
       "    <tr>\n",
       "      <th>75%</th>\n",
       "      <td>65.000000</td>\n",
       "      <td>7.000000</td>\n",
       "      <td>4288.000000</td>\n",
       "      <td>2848.000000</td>\n",
       "    </tr>\n",
       "    <tr>\n",
       "      <th>max</th>\n",
       "      <td>85.000000</td>\n",
       "      <td>100.000000</td>\n",
       "      <td>6748.000000</td>\n",
       "      <td>4499.000000</td>\n",
       "    </tr>\n",
       "  </tbody>\n",
       "</table>\n",
       "</div>"
      ],
      "text/plain": [
       "        age_approx  clin_size_long_diam_mm     pixels_x     pixels_y\n",
       "count  1744.000000              462.000000  2000.000000  2000.000000\n",
       "mean     49.033830                6.030952  2734.293000  1877.673000\n",
       "std      19.731372                5.512854  1682.314035  1081.419839\n",
       "min       5.000000                1.000000   576.000000   540.000000\n",
       "25%      35.000000                4.000000  1024.000000   768.000000\n",
       "50%      50.000000                5.000000  3008.000000  2000.000000\n",
       "75%      65.000000                7.000000  4288.000000  2848.000000\n",
       "max      85.000000              100.000000  6748.000000  4499.000000"
      ]
     },
     "execution_count": 7,
     "metadata": {},
     "output_type": "execute_result"
    }
   ],
   "source": [
    "skin_data.describe()"
   ]
  },
  {
   "cell_type": "code",
   "execution_count": 8,
   "id": "df18f86d",
   "metadata": {},
   "outputs": [
    {
     "data": {
      "text/plain": [
       "0       female\n",
       "1       female\n",
       "2       female\n",
       "3         male\n",
       "4         male\n",
       "         ...  \n",
       "1995      male\n",
       "1996      male\n",
       "1997    female\n",
       "1998      male\n",
       "1999      male\n",
       "Name: sex, Length: 2000, dtype: object"
      ]
     },
     "execution_count": 8,
     "metadata": {},
     "output_type": "execute_result"
    }
   ],
   "source": [
    "skin_data.sex"
   ]
  },
  {
   "cell_type": "code",
   "execution_count": 9,
   "id": "59251a96",
   "metadata": {},
   "outputs": [
    {
     "data": {
      "text/plain": [
       "(2000, 24)"
      ]
     },
     "execution_count": 9,
     "metadata": {},
     "output_type": "execute_result"
    }
   ],
   "source": [
    "# shape of data\n",
    "skin_data.shape"
   ]
  },
  {
   "cell_type": "code",
   "execution_count": 10,
   "id": "ab4a1a20",
   "metadata": {},
   "outputs": [
    {
     "name": "stdout",
     "output_type": "stream",
     "text": [
      "Number of images: 2000\n",
      "First 5 image names:\n",
      "ISIC_0000000.jpg\n",
      "ISIC_0000001.jpg\n",
      "ISIC_0000002.jpg\n",
      "ISIC_0000003.jpg\n",
      "ISIC_0000004.jpg\n"
     ]
    }
   ],
   "source": [
    "# Checking  images folder\n",
    "image_folder = 'skin_cancer_data'\n",
    "image_files = os.listdir(image_folder)\n",
    "print(f\"Number of images: {len(image_files)}\")\n",
    "print(\"First 5 image names:\")\n",
    "for i in range(5):\n",
    "    print(image_files[i])"
   ]
  },
  {
   "cell_type": "code",
   "execution_count": 11,
   "id": "dff4f11c",
   "metadata": {},
   "outputs": [
    {
     "name": "stdout",
     "output_type": "stream",
     "text": [
      "Diagnosis distribution:\n",
      "diagnosis_1\n",
      "Benign           1625\n",
      "Malignant         374\n",
      "Indeterminate       1\n",
      "Name: count, dtype: int64\n",
      "\n",
      "Percentages:\n",
      "diagnosis_1\n",
      "Benign           81.25\n",
      "Malignant        18.70\n",
      "Indeterminate     0.05\n",
      "Name: proportion, dtype: float64\n"
     ]
    }
   ],
   "source": [
    "# Check how many benign vs malignant cases you have\n",
    "print(\"Diagnosis distribution:\")\n",
    "print(skin_data['diagnosis_1'].value_counts())\n",
    "print(\"\\nPercentages:\")\n",
    "print(skin_data['diagnosis_1'].value_counts(normalize=True) * 100)"
   ]
  },
  {
   "cell_type": "code",
   "execution_count": 12,
   "id": "d0d91877",
   "metadata": {},
   "outputs": [
    {
     "data": {
      "text/plain": [
       "Index(['isic_id', 'attribution', 'copyright_license', 'age_approx',\n",
       "       'anatom_site_general', 'anatom_site_special', 'clin_size_long_diam_mm',\n",
       "       'concomitant_biopsy', 'dermoscopic_type', 'diagnosis_1', 'diagnosis_2',\n",
       "       'diagnosis_3', 'diagnosis_4', 'diagnosis_5', 'diagnosis_confirm_type',\n",
       "       'family_hx_mm', 'image_type', 'lesion_id', 'melanocytic', 'patient_id',\n",
       "       'personal_hx_mm', 'pixels_x', 'pixels_y', 'sex'],\n",
       "      dtype='object')"
      ]
     },
     "execution_count": 12,
     "metadata": {},
     "output_type": "execute_result"
    }
   ],
   "source": [
    "skin_data.columns   "
   ]
  },
  {
   "cell_type": "code",
   "execution_count": 13,
   "id": "cb8da6c4",
   "metadata": {},
   "outputs": [],
   "source": [
    "# removing unwanted columns \n",
    "skin_data.drop(['attribution','copyright_license','diagnosis_2','diagnosis_3','diagnosis_4',\n",
    "                'diagnosis_5','pixels_x','pixels_y','patient_id','lesion_id','anatom_site_general',\n",
    "                'anatom_site_special', 'concomitant_biopsy', 'dermoscopic_type',\n",
    "                'diagnosis_confirm_type','family_hx_mm','image_type','personal_hx_mm','melanocytic'], axis=1 , inplace=True)"
   ]
  },
  {
   "cell_type": "code",
   "execution_count": 14,
   "id": "b64200dc",
   "metadata": {},
   "outputs": [
    {
     "data": {
      "text/html": [
       "<div>\n",
       "<style scoped>\n",
       "    .dataframe tbody tr th:only-of-type {\n",
       "        vertical-align: middle;\n",
       "    }\n",
       "\n",
       "    .dataframe tbody tr th {\n",
       "        vertical-align: top;\n",
       "    }\n",
       "\n",
       "    .dataframe thead th {\n",
       "        text-align: right;\n",
       "    }\n",
       "</style>\n",
       "<table border=\"1\" class=\"dataframe\">\n",
       "  <thead>\n",
       "    <tr style=\"text-align: right;\">\n",
       "      <th></th>\n",
       "      <th>isic_id</th>\n",
       "      <th>age_approx</th>\n",
       "      <th>clin_size_long_diam_mm</th>\n",
       "      <th>diagnosis_1</th>\n",
       "      <th>sex</th>\n",
       "    </tr>\n",
       "  </thead>\n",
       "  <tbody>\n",
       "    <tr>\n",
       "      <th>0</th>\n",
       "      <td>ISIC_0000000</td>\n",
       "      <td>55.0</td>\n",
       "      <td>NaN</td>\n",
       "      <td>Benign</td>\n",
       "      <td>female</td>\n",
       "    </tr>\n",
       "    <tr>\n",
       "      <th>1</th>\n",
       "      <td>ISIC_0000001</td>\n",
       "      <td>30.0</td>\n",
       "      <td>NaN</td>\n",
       "      <td>Benign</td>\n",
       "      <td>female</td>\n",
       "    </tr>\n",
       "    <tr>\n",
       "      <th>2</th>\n",
       "      <td>ISIC_0000002</td>\n",
       "      <td>60.0</td>\n",
       "      <td>NaN</td>\n",
       "      <td>Malignant</td>\n",
       "      <td>female</td>\n",
       "    </tr>\n",
       "    <tr>\n",
       "      <th>3</th>\n",
       "      <td>ISIC_0000003</td>\n",
       "      <td>30.0</td>\n",
       "      <td>NaN</td>\n",
       "      <td>Benign</td>\n",
       "      <td>male</td>\n",
       "    </tr>\n",
       "    <tr>\n",
       "      <th>4</th>\n",
       "      <td>ISIC_0000004</td>\n",
       "      <td>80.0</td>\n",
       "      <td>NaN</td>\n",
       "      <td>Malignant</td>\n",
       "      <td>male</td>\n",
       "    </tr>\n",
       "  </tbody>\n",
       "</table>\n",
       "</div>"
      ],
      "text/plain": [
       "        isic_id  age_approx  clin_size_long_diam_mm diagnosis_1     sex\n",
       "0  ISIC_0000000        55.0                     NaN      Benign  female\n",
       "1  ISIC_0000001        30.0                     NaN      Benign  female\n",
       "2  ISIC_0000002        60.0                     NaN   Malignant  female\n",
       "3  ISIC_0000003        30.0                     NaN      Benign    male\n",
       "4  ISIC_0000004        80.0                     NaN   Malignant    male"
      ]
     },
     "execution_count": 14,
     "metadata": {},
     "output_type": "execute_result"
    }
   ],
   "source": [
    "skin_data.head() # requred only :-'isic_id', 'diagnosis_1', 'clin_size_long_diam_mm', 'age_approx' ,'sex'"
   ]
  },
  {
   "cell_type": "code",
   "execution_count": 15,
   "id": "0126b81f",
   "metadata": {},
   "outputs": [
    {
     "data": {
      "text/plain": [
       "isic_id                      0\n",
       "age_approx                 256\n",
       "clin_size_long_diam_mm    1538\n",
       "diagnosis_1                  0\n",
       "sex                        229\n",
       "dtype: int64"
      ]
     },
     "execution_count": 15,
     "metadata": {},
     "output_type": "execute_result"
    }
   ],
   "source": [
    "skin_data.isnull().sum()"
   ]
  },
  {
   "cell_type": "code",
   "execution_count": 16,
   "id": "8c978834",
   "metadata": {},
   "outputs": [
    {
     "name": "stdout",
     "output_type": "stream",
     "text": [
      "Diameter data available: 462\n",
      "Total rows: 2000\n"
     ]
    }
   ],
   "source": [
    "# Checking  diameter data availability\n",
    "print(\"Diameter data available:\", skin_data['clin_size_long_diam_mm'].notna().sum())\n",
    "print(\"Total rows:\", len(skin_data))"
   ]
  },
  {
   "cell_type": "markdown",
   "id": "4a20957f",
   "metadata": {},
   "source": [
    "# Image preprocessing using OpneCV"
   ]
  },
  {
   "cell_type": "code",
   "execution_count": 17,
   "id": "bcff1817",
   "metadata": {},
   "outputs": [],
   "source": [
    "# only for one images this code \n",
    "import cv2\n",
    "def preprocess_lesion(image_path):\n",
    "    #loading image\n",
    "    img = cv2.imread(image_path)\n",
    "    \n",
    "    # This line converts the image color format from BGR (Blue, Green, Red) to RGB (Red, Green, Blue).\n",
    "    img_rgb = cv2.cvtColor(img ,cv2.COLOR_BGR2RGB) \n",
    "    \n",
    "    # Converting to grayscale for lesion detection\n",
    "    gray = cv2.cvtColor(img ,cv2.COLOR_BGR2GRAY)\n",
    "    \n",
    "    # apply Gaussian blur to reduce noise\n",
    "    blurred = cv2.GaussianBlur(gray, (5,5),0)\n",
    "    return img_rgb , blurred\n"
   ]
  },
  {
   "cell_type": "code",
   "execution_count": 18,
   "id": "327a3d73",
   "metadata": {},
   "outputs": [
    {
     "data": {
      "image/png": "[encoded data removed]",
      "text/plain": [
       "<Figure size 1000x600 with 2 Axes>"
      ]
     },
     "metadata": {},
     "output_type": "display_data"
    }
   ],
   "source": [
    "# shows one image like Original skin lesion  to  Preprocessed\n",
    "import matplotlib.pyplot as plt\n",
    "sample_path = \"skin_cancer_data/ISIC_0000061.jpg\"\n",
    "img_rgb, blurred = preprocess_lesion(sample_path)\n",
    "\n",
    "plt.figure(figsize=(10, 6))\n",
    "plt.subplot(1, 2, 1)\n",
    "plt.imshow(img_rgb)\n",
    "plt.title(\"Original Skin Lesion\")\n",
    "\n",
    "plt.subplot(1, 2, 2)  \n",
    "plt.imshow(blurred, cmap='gray')\n",
    "plt.title(\"Preprocessed\")\n",
    "plt.show()"
   ]
  },
  {
   "cell_type": "markdown",
   "id": "528e93e7",
   "metadata": {},
   "source": [
    "# Lesion Boundry detection (2000 images)"
   ]
  },
  {
   "cell_type": "code",
   "execution_count": 19,
   "id": "8f884ac9",
   "metadata": {},
   "outputs": [
    {
     "name": "stdout",
     "output_type": "stream",
     "text": [
      "Diameter : 281.27 pixels\n",
      "Asymmetry Score :2.01\n"
     ]
    }
   ],
   "source": [
    "# detecting the lesion boundary to extract diameter + asymmetry for (one image)\n",
    "# defining methods\n",
    "def extract_lesion_futures(image_path):\n",
    "    # loading and preprocessing the image\n",
    "    img_rgb , blurred = preprocess_lesion(image_path)\n",
    "    \n",
    "    # thresholud to isloate lesion(dark areas)\n",
    "    _ , thresh = cv2.threshold(blurred, 0 , 255, cv2.THRESH_BINARY_INV+cv2.THRESH_OTSU)\n",
    "    \n",
    "    # Find contours (lesion boundaries)\n",
    "    contours, _ = cv2.findContours(thresh ,cv2.RETR_EXTERNAL  , cv2.CHAIN_APPROX_SIMPLE)\n",
    "    \n",
    "    if contours:\n",
    "        # get larget contour (main lesion)\n",
    "        larget_contour = max(contours , key=cv2.contourArea)\n",
    "        \n",
    "        # calculate diameter (longet distance across lesion)\n",
    "        rect = cv2.minAreaRect(larget_contour)\n",
    "        diameter = max(rect[1]) # get longer side of bounding box\n",
    "        \n",
    "        # Calculate asymmetric score (simplified version)\n",
    "        area = cv2.contourArea(larget_contour)\n",
    "        perimeter = cv2.arcLength(larget_contour ,True)\n",
    "        asymmetry = perimeter**2 / (4*np.pi * area) if area>0 else 0\n",
    "        \n",
    "        return diameter , asymmetry\n",
    "    else:\n",
    "        return 0,0\n",
    "    \n",
    "# testing on images\n",
    "diameter , asymmetry = extract_lesion_futures(\"skin_cancer_data/ISIC_0000001.jpg\")\n",
    "print(f\"Diameter : {diameter:.2f} pixels\")\n",
    "print(f\"Asymmetry Score :{asymmetry:.2f}\")"
   ]
  },
  {
   "cell_type": "markdown",
   "id": "e3f8aa6f",
   "metadata": {},
   "source": [
    "# preprocessing all images"
   ]
  },
  {
   "cell_type": "code",
   "execution_count": 20,
   "id": "67ceda7f",
   "metadata": {},
   "outputs": [
    {
     "name": "stdout",
     "output_type": "stream",
     "text": [
      "Processing 2000 images...\n"
     ]
    },
    {
     "name": "stderr",
     "output_type": "stream",
     "text": [
      "100%|██████████| 2000/2000 [02:53<00:00, 11.55it/s]"
     ]
    },
    {
     "name": "stdout",
     "output_type": "stream",
     "text": [
      "Feature extraction complete\n",
      "        isic_id diagnosis_1  diameter_pixels  asymmetry_score\n",
      "0  ISIC_0000000      Benign       808.893311         2.319683\n",
      "1  ISIC_0000001      Benign       281.266449         2.006928\n",
      "2  ISIC_0000002   Malignant       587.055908         4.626722\n",
      "3  ISIC_0000003      Benign       574.073181         2.209306\n",
      "4  ISIC_0000004   Malignant      1019.000000         1.298122\n"
     ]
    },
    {
     "name": "stderr",
     "output_type": "stream",
     "text": [
      "\n"
     ]
    }
   ],
   "source": [
    "import pandas as pd\n",
    "# tqdm is a popular Python library that helps you display a progress bar in your loops.\n",
    "# It’s great for visually tracking the progress of long-running operations \n",
    "# (like reading many files, training machine learning models) \n",
    "from tqdm import tqdm  \n",
    "\n",
    "def process_all_images(df):\n",
    "    diameters = []\n",
    "    asymmetries = []\n",
    "    \n",
    "    for isic_id in tqdm(df['isic_id']):\n",
    "        image_path = f\"skin_cancer_data/{isic_id}.jpg\"\n",
    "        try:\n",
    "            diameter, asymmetry = extract_lesion_futures(image_path)\n",
    "            diameters.append(diameter)\n",
    "            asymmetries.append(asymmetry)\n",
    "        except:\n",
    "            # If image processing fails, we can use default values\n",
    "            diameters.append(0)\n",
    "            asymmetries.append(0)\n",
    "    \n",
    "    return diameters, asymmetries\n",
    "\n",
    "# Processing  all images\n",
    "print(\"Processing 2000 images...\")\n",
    "diameters, asymmetries = process_all_images(skin_data)\n",
    "\n",
    "# Adding  new columns to dataframe\n",
    "skin_data['diameter_pixels'] = diameters\n",
    "skin_data['asymmetry_score'] = asymmetries\n",
    "\n",
    "print(\"Feature extraction complete\")\n",
    "print(skin_data[['isic_id', 'diagnosis_1', 'diameter_pixels', 'asymmetry_score']].head())"
   ]
  },
  {
   "cell_type": "code",
   "execution_count": 21,
   "id": "78a3e48f",
   "metadata": {},
   "outputs": [
    {
     "data": {
      "text/html": [
       "<div>\n",
       "<style scoped>\n",
       "    .dataframe tbody tr th:only-of-type {\n",
       "        vertical-align: middle;\n",
       "    }\n",
       "\n",
       "    .dataframe tbody tr th {\n",
       "        vertical-align: top;\n",
       "    }\n",
       "\n",
       "    .dataframe thead th {\n",
       "        text-align: right;\n",
       "    }\n",
       "</style>\n",
       "<table border=\"1\" class=\"dataframe\">\n",
       "  <thead>\n",
       "    <tr style=\"text-align: right;\">\n",
       "      <th></th>\n",
       "      <th>isic_id</th>\n",
       "      <th>age_approx</th>\n",
       "      <th>clin_size_long_diam_mm</th>\n",
       "      <th>diagnosis_1</th>\n",
       "      <th>sex</th>\n",
       "      <th>diameter_pixels</th>\n",
       "      <th>asymmetry_score</th>\n",
       "    </tr>\n",
       "  </thead>\n",
       "  <tbody>\n",
       "    <tr>\n",
       "      <th>0</th>\n",
       "      <td>ISIC_0000000</td>\n",
       "      <td>55.0</td>\n",
       "      <td>NaN</td>\n",
       "      <td>Benign</td>\n",
       "      <td>female</td>\n",
       "      <td>808.893311</td>\n",
       "      <td>2.319683</td>\n",
       "    </tr>\n",
       "    <tr>\n",
       "      <th>1</th>\n",
       "      <td>ISIC_0000001</td>\n",
       "      <td>30.0</td>\n",
       "      <td>NaN</td>\n",
       "      <td>Benign</td>\n",
       "      <td>female</td>\n",
       "      <td>281.266449</td>\n",
       "      <td>2.006928</td>\n",
       "    </tr>\n",
       "    <tr>\n",
       "      <th>2</th>\n",
       "      <td>ISIC_0000002</td>\n",
       "      <td>60.0</td>\n",
       "      <td>NaN</td>\n",
       "      <td>Malignant</td>\n",
       "      <td>female</td>\n",
       "      <td>587.055908</td>\n",
       "      <td>4.626722</td>\n",
       "    </tr>\n",
       "    <tr>\n",
       "      <th>3</th>\n",
       "      <td>ISIC_0000003</td>\n",
       "      <td>30.0</td>\n",
       "      <td>NaN</td>\n",
       "      <td>Benign</td>\n",
       "      <td>male</td>\n",
       "      <td>574.073181</td>\n",
       "      <td>2.209306</td>\n",
       "    </tr>\n",
       "    <tr>\n",
       "      <th>4</th>\n",
       "      <td>ISIC_0000004</td>\n",
       "      <td>80.0</td>\n",
       "      <td>NaN</td>\n",
       "      <td>Malignant</td>\n",
       "      <td>male</td>\n",
       "      <td>1019.000000</td>\n",
       "      <td>1.298122</td>\n",
       "    </tr>\n",
       "    <tr>\n",
       "      <th>...</th>\n",
       "      <td>...</td>\n",
       "      <td>...</td>\n",
       "      <td>...</td>\n",
       "      <td>...</td>\n",
       "      <td>...</td>\n",
       "      <td>...</td>\n",
       "      <td>...</td>\n",
       "    </tr>\n",
       "    <tr>\n",
       "      <th>1995</th>\n",
       "      <td>ISIC_0015220</td>\n",
       "      <td>75.0</td>\n",
       "      <td>NaN</td>\n",
       "      <td>Benign</td>\n",
       "      <td>male</td>\n",
       "      <td>5628.303711</td>\n",
       "      <td>30.000641</td>\n",
       "    </tr>\n",
       "    <tr>\n",
       "      <th>1996</th>\n",
       "      <td>ISIC_0015233</td>\n",
       "      <td>60.0</td>\n",
       "      <td>NaN</td>\n",
       "      <td>Benign</td>\n",
       "      <td>male</td>\n",
       "      <td>2541.305176</td>\n",
       "      <td>5.007546</td>\n",
       "    </tr>\n",
       "    <tr>\n",
       "      <th>1997</th>\n",
       "      <td>ISIC_0015260</td>\n",
       "      <td>55.0</td>\n",
       "      <td>NaN</td>\n",
       "      <td>Benign</td>\n",
       "      <td>female</td>\n",
       "      <td>3544.394043</td>\n",
       "      <td>6.137405</td>\n",
       "    </tr>\n",
       "    <tr>\n",
       "      <th>1998</th>\n",
       "      <td>ISIC_0015284</td>\n",
       "      <td>75.0</td>\n",
       "      <td>NaN</td>\n",
       "      <td>Malignant</td>\n",
       "      <td>male</td>\n",
       "      <td>5643.000000</td>\n",
       "      <td>42.153963</td>\n",
       "    </tr>\n",
       "    <tr>\n",
       "      <th>1999</th>\n",
       "      <td>ISIC_0015295</td>\n",
       "      <td>70.0</td>\n",
       "      <td>NaN</td>\n",
       "      <td>Benign</td>\n",
       "      <td>male</td>\n",
       "      <td>6687.000000</td>\n",
       "      <td>27.235151</td>\n",
       "    </tr>\n",
       "  </tbody>\n",
       "</table>\n",
       "<p>2000 rows × 7 columns</p>\n",
       "</div>"
      ],
      "text/plain": [
       "           isic_id  age_approx  clin_size_long_diam_mm diagnosis_1     sex  \\\n",
       "0     ISIC_0000000        55.0                     NaN      Benign  female   \n",
       "1     ISIC_0000001        30.0                     NaN      Benign  female   \n",
       "2     ISIC_0000002        60.0                     NaN   Malignant  female   \n",
       "3     ISIC_0000003        30.0                     NaN      Benign    male   \n",
       "4     ISIC_0000004        80.0                     NaN   Malignant    male   \n",
       "...            ...         ...                     ...         ...     ...   \n",
       "1995  ISIC_0015220        75.0                     NaN      Benign    male   \n",
       "1996  ISIC_0015233        60.0                     NaN      Benign    male   \n",
       "1997  ISIC_0015260        55.0                     NaN      Benign  female   \n",
       "1998  ISIC_0015284        75.0                     NaN   Malignant    male   \n",
       "1999  ISIC_0015295        70.0                     NaN      Benign    male   \n",
       "\n",
       "      diameter_pixels  asymmetry_score  \n",
       "0          808.893311         2.319683  \n",
       "1          281.266449         2.006928  \n",
       "2          587.055908         4.626722  \n",
       "3          574.073181         2.209306  \n",
       "4         1019.000000         1.298122  \n",
       "...               ...              ...  \n",
       "1995      5628.303711        30.000641  \n",
       "1996      2541.305176         5.007546  \n",
       "1997      3544.394043         6.137405  \n",
       "1998      5643.000000        42.153963  \n",
       "1999      6687.000000        27.235151  \n",
       "\n",
       "[2000 rows x 7 columns]"
      ]
     },
     "execution_count": 21,
     "metadata": {},
     "output_type": "execute_result"
    }
   ],
   "source": [
    "# checking preprocessed images data\n",
    "skin_data"
   ]
  },
  {
   "cell_type": "code",
   "execution_count": 22,
   "id": "24613a54",
   "metadata": {},
   "outputs": [],
   "source": [
    "skin_data.drop(['clin_size_long_diam_mm'] , axis=1 , inplace=True)"
   ]
  },
  {
   "cell_type": "code",
   "execution_count": 23,
   "id": "f639664e",
   "metadata": {},
   "outputs": [
    {
     "data": {
      "text/plain": [
       "np.int64(256)"
      ]
     },
     "execution_count": 23,
     "metadata": {},
     "output_type": "execute_result"
    }
   ],
   "source": [
    "skin_data['age_approx'].isnull().sum()"
   ]
  },
  {
   "cell_type": "markdown",
   "id": "873830d8",
   "metadata": {},
   "source": [
    "# Encoding the categorical futures"
   ]
  },
  {
   "cell_type": "code",
   "execution_count": 24,
   "id": "ce83e92d",
   "metadata": {},
   "outputs": [],
   "source": [
    "# Removig the 1 indeterminate case another method is (drop) \n",
    "skin_data_clean = skin_data[skin_data['diagnosis_1'] != 'Indeterminate'].copy()\n",
    "\n",
    "# Encoding Male =1 , Female = 0\n",
    "le_sex = LabelEncoder()\n",
    "skin_data_clean['sex_encoded'] = le_sex.fit_transform(skin_data_clean['sex'])\n",
    "\n",
    "# encoding target benign = 0 , melignant = 1\n",
    "\n",
    "le_diagonsis = LabelEncoder()\n",
    "\n",
    "skin_data_clean['diagnosis_encoded'] = le_diagonsis.fit_transform(skin_data_clean['diagnosis_1'])"
   ]
  },
  {
   "cell_type": "code",
   "execution_count": 25,
   "id": "37ddfce5",
   "metadata": {},
   "outputs": [],
   "source": [
    "\n",
    "# balancing the dataset \n",
    "malignant = skin_data_clean[skin_data_clean['diagnosis_1']=='Malignant']\n",
    "bengin = skin_data_clean[skin_data_clean['diagnosis_1']=='Benign'].sample(374 , random_state=42) # 374 cases like it takes 374 imges randomly\n",
    "skin_balanced = pd.concat([malignant ,bengin])"
   ]
  },
  {
   "cell_type": "code",
   "execution_count": 26,
   "id": "ba709a1e",
   "metadata": {},
   "outputs": [],
   "source": [
    "skin_balanced = skin_balanced.copy()"
   ]
  },
  {
   "cell_type": "code",
   "execution_count": 27,
   "id": "bf466c0d",
   "metadata": {},
   "outputs": [
    {
     "data": {
      "text/plain": [
       "diagnosis_1\n",
       "Benign       1625\n",
       "Malignant     374\n",
       "Name: count, dtype: int64"
      ]
     },
     "execution_count": 27,
     "metadata": {},
     "output_type": "execute_result"
    }
   ],
   "source": [
    "skin_data_clean['diagnosis_1'].value_counts() # for 2 values not same size  1625 , 374"
   ]
  },
  {
   "cell_type": "code",
   "execution_count": 28,
   "id": "dd9fec4f",
   "metadata": {},
   "outputs": [
    {
     "data": {
      "text/plain": [
       "diagnosis_1\n",
       "Malignant    374\n",
       "Benign       374\n",
       "Name: count, dtype: int64"
      ]
     },
     "execution_count": 28,
     "metadata": {},
     "output_type": "execute_result"
    }
   ],
   "source": [
    "skin_balanced['diagnosis_1'].value_counts() # for 2 values with same size 374 "
   ]
  },
  {
   "cell_type": "code",
   "execution_count": 29,
   "id": "926b6c83",
   "metadata": {},
   "outputs": [
    {
     "name": "stdout",
     "output_type": "stream",
     "text": [
      "Removed 0 bad images\n"
     ]
    }
   ],
   "source": [
    "# Remove images where feature extraction failed for clarification purpose\n",
    "skin_clean = skin_balanced[\n",
    "    (skin_balanced['diameter_pixels'] > 0) & \n",
    "    (skin_balanced['asymmetry_score'] > 0)\n",
    "]\n",
    "print(f\"Removed {len(skin_balanced) - len(skin_clean)} bad images\")"
   ]
  },
  {
   "cell_type": "markdown",
   "id": "ea3b75e6",
   "metadata": {},
   "source": [
    "## Adding 3 more Futures "
   ]
  },
  {
   "cell_type": "code",
   "execution_count": 30,
   "id": "7515b967",
   "metadata": {},
   "outputs": [],
   "source": [
    "# Extracting  4 more futures for better model performance \n",
    "def extract_advanced_features(image_path):\n",
    "    img = cv2.imread(image_path)\n",
    "    img_rgb = cv2.cvtColor(img, cv2.COLOR_BGR2RGB)\n",
    "    gray = cv2.cvtColor(img, cv2.COLOR_BGR2GRAY)\n",
    "    blurred = cv2.GaussianBlur(gray, (5, 5), 0)\n",
    "    \n",
    "    _, thresh = cv2.threshold(blurred, 0, 255, cv2.THRESH_BINARY_INV + cv2.THRESH_OTSU)\n",
    "    contours, _ = cv2.findContours(thresh, cv2.RETR_EXTERNAL, cv2.CHAIN_APPROX_SIMPLE)\n",
    "    \n",
    "    if contours:\n",
    "        largest_contour = max(contours, key=cv2.contourArea)\n",
    "        \n",
    "        # Calculate intermediate values (needed for new features)\n",
    "        area = cv2.contourArea(largest_contour)\n",
    "        perimeter = cv2.arcLength(largest_contour, True)\n",
    "        \n",
    "        # NEW: Color Variation\n",
    "        mask = np.zeros(gray.shape, np.uint8)\n",
    "        cv2.drawContours(mask, [largest_contour], 0, 255, -1)\n",
    "        lesion_pixels = img_rgb[mask == 255]\n",
    "        color_std = np.std(lesion_pixels) if len(lesion_pixels) > 0 else 0\n",
    "        \n",
    "        # NEW: Border Irregularity\n",
    "        hull = cv2.convexHull(largest_contour)\n",
    "        hull_area = cv2.contourArea(hull)\n",
    "        border_irregularity = (hull_area - area) / hull_area if hull_area > 0 else 0\n",
    "        \n",
    "        # NEW: Compactness\n",
    "        compactness = (4 * np.pi * area) / (perimeter**2) if perimeter > 0 else 0\n",
    "        \n",
    "        return color_std, border_irregularity, compactness  # Only returns 3 new features\n",
    "    else:\n",
    "        return 0, 0, 0"
   ]
  },
  {
   "cell_type": "code",
   "execution_count": 31,
   "id": "2488e71f",
   "metadata": {},
   "outputs": [
    {
     "name": "stderr",
     "output_type": "stream",
     "text": [
      "100%|██████████| 748/748 [02:02<00:00,  6.10it/s]\n"
     ]
    }
   ],
   "source": [
    "# Extract only NEW features\n",
    "color_variations = []\n",
    "border_irregularities = []\n",
    "compactnesses = []\n",
    "\n",
    "for isic_id in tqdm(skin_balanced['isic_id']):\n",
    "    image_path = f\"skin_cancer_data/{isic_id}.jpg\"\n",
    "    try:\n",
    "        color, border, compact = extract_advanced_features(image_path)\n",
    "        color_variations.append(color)\n",
    "        border_irregularities.append(border)\n",
    "        compactnesses.append(compact)\n",
    "    except:\n",
    "        color_variations.append(0)\n",
    "        border_irregularities.append(0)\n",
    "        compactnesses.append(0)\n",
    "\n",
    "# Add to existing dataframe\n",
    "skin_balanced['color_variation'] = color_variations\n",
    "skin_balanced['border_irregularity'] = border_irregularities\n",
    "skin_balanced['compactness'] = compactnesses"
   ]
  },
  {
   "cell_type": "code",
   "execution_count": 32,
   "id": "c88178fc",
   "metadata": {},
   "outputs": [
    {
     "name": "stdout",
     "output_type": "stream",
     "text": [
      "Existing features check:\n",
      "Images in skin_balanced: 748\n",
      "Has diameter_pixels? True\n",
      "Has asymmetry_score? True\n"
     ]
    }
   ],
   "source": [
    "# checking these 748 images\n",
    "print(\"Existing features check:\")\n",
    "print(f\"Images in skin_balanced: {len(skin_balanced)}\")\n",
    "print(f\"Has diameter_pixels? {'diameter_pixels' in skin_balanced.columns}\")\n",
    "print(f\"Has asymmetry_score? {'asymmetry_score' in skin_balanced.columns}\")"
   ]
  },
  {
   "cell_type": "code",
   "execution_count": 33,
   "id": "64d5637f",
   "metadata": {},
   "outputs": [
    {
     "name": "stdout",
     "output_type": "stream",
     "text": [
      "\n",
      "Checking new feature quality:\n",
      "Color variation zeros: 0\n",
      "Border irregularity zeros: 24\n",
      "Compactness zeros: 0\n"
     ]
    }
   ],
   "source": [
    "print(\"\\nChecking new feature quality:\")\n",
    "print(f\"Color variation zeros: {(skin_balanced['color_variation'] == 0).sum()}\")\n",
    "print(f\"Border irregularity zeros: {(skin_balanced['border_irregularity'] == 0).sum()}\")\n",
    "print(f\"Compactness zeros: {(skin_balanced['compactness'] == 0).sum()}\")"
   ]
  },
  {
   "cell_type": "code",
   "execution_count": 34,
   "id": "58d49bf8",
   "metadata": {},
   "outputs": [
    {
     "name": "stdout",
     "output_type": "stream",
     "text": [
      "Images with border_irregularity = 0:\n",
      "diagnosis_encoded\n",
      "1    16\n",
      "0     8\n",
      "Name: count, dtype: int64\n"
     ]
    }
   ],
   "source": [
    "# Check impact of 24 border irregularity\n",
    "print(\"Images with border_irregularity = 0:\")\n",
    "print(skin_balanced[skin_balanced['border_irregularity'] == 0]['diagnosis_encoded'].value_counts())"
   ]
  },
  {
   "cell_type": "code",
   "execution_count": 35,
   "id": "bffd245c",
   "metadata": {},
   "outputs": [
    {
     "data": {
      "text/html": [
       "<div>\n",
       "<style scoped>\n",
       "    .dataframe tbody tr th:only-of-type {\n",
       "        vertical-align: middle;\n",
       "    }\n",
       "\n",
       "    .dataframe tbody tr th {\n",
       "        vertical-align: top;\n",
       "    }\n",
       "\n",
       "    .dataframe thead th {\n",
       "        text-align: right;\n",
       "    }\n",
       "</style>\n",
       "<table border=\"1\" class=\"dataframe\">\n",
       "  <thead>\n",
       "    <tr style=\"text-align: right;\">\n",
       "      <th></th>\n",
       "      <th>isic_id</th>\n",
       "      <th>age_approx</th>\n",
       "      <th>diagnosis_1</th>\n",
       "      <th>sex</th>\n",
       "      <th>diameter_pixels</th>\n",
       "      <th>asymmetry_score</th>\n",
       "      <th>sex_encoded</th>\n",
       "      <th>diagnosis_encoded</th>\n",
       "      <th>color_variation</th>\n",
       "      <th>border_irregularity</th>\n",
       "      <th>compactness</th>\n",
       "    </tr>\n",
       "  </thead>\n",
       "  <tbody>\n",
       "    <tr>\n",
       "      <th>2</th>\n",
       "      <td>ISIC_0000002</td>\n",
       "      <td>60.0</td>\n",
       "      <td>Malignant</td>\n",
       "      <td>female</td>\n",
       "      <td>587.055908</td>\n",
       "      <td>4.626722</td>\n",
       "      <td>0</td>\n",
       "      <td>1</td>\n",
       "      <td>25.126763</td>\n",
       "      <td>1.662607e-01</td>\n",
       "      <td>0.216136</td>\n",
       "    </tr>\n",
       "    <tr>\n",
       "      <th>4</th>\n",
       "      <td>ISIC_0000004</td>\n",
       "      <td>80.0</td>\n",
       "      <td>Malignant</td>\n",
       "      <td>male</td>\n",
       "      <td>1019.000000</td>\n",
       "      <td>1.298122</td>\n",
       "      <td>1</td>\n",
       "      <td>1</td>\n",
       "      <td>88.037816</td>\n",
       "      <td>0.000000e+00</td>\n",
       "      <td>0.770344</td>\n",
       "    </tr>\n",
       "    <tr>\n",
       "      <th>12</th>\n",
       "      <td>ISIC_0000013</td>\n",
       "      <td>30.0</td>\n",
       "      <td>Malignant</td>\n",
       "      <td>female</td>\n",
       "      <td>551.348999</td>\n",
       "      <td>1.644973</td>\n",
       "      <td>0</td>\n",
       "      <td>1</td>\n",
       "      <td>30.877678</td>\n",
       "      <td>4.696488e-02</td>\n",
       "      <td>0.607913</td>\n",
       "    </tr>\n",
       "    <tr>\n",
       "      <th>21</th>\n",
       "      <td>ISIC_0000022</td>\n",
       "      <td>55.0</td>\n",
       "      <td>Malignant</td>\n",
       "      <td>female</td>\n",
       "      <td>1503.000000</td>\n",
       "      <td>1.297334</td>\n",
       "      <td>0</td>\n",
       "      <td>1</td>\n",
       "      <td>35.866035</td>\n",
       "      <td>0.000000e+00</td>\n",
       "      <td>0.770811</td>\n",
       "    </tr>\n",
       "    <tr>\n",
       "      <th>25</th>\n",
       "      <td>ISIC_0000026</td>\n",
       "      <td>30.0</td>\n",
       "      <td>Malignant</td>\n",
       "      <td>female</td>\n",
       "      <td>1503.000000</td>\n",
       "      <td>1.298200</td>\n",
       "      <td>0</td>\n",
       "      <td>1</td>\n",
       "      <td>26.526554</td>\n",
       "      <td>5.898384e-07</td>\n",
       "      <td>0.770297</td>\n",
       "    </tr>\n",
       "  </tbody>\n",
       "</table>\n",
       "</div>"
      ],
      "text/plain": [
       "         isic_id  age_approx diagnosis_1     sex  diameter_pixels  \\\n",
       "2   ISIC_0000002        60.0   Malignant  female       587.055908   \n",
       "4   ISIC_0000004        80.0   Malignant    male      1019.000000   \n",
       "12  ISIC_0000013        30.0   Malignant  female       551.348999   \n",
       "21  ISIC_0000022        55.0   Malignant  female      1503.000000   \n",
       "25  ISIC_0000026        30.0   Malignant  female      1503.000000   \n",
       "\n",
       "    asymmetry_score  sex_encoded  diagnosis_encoded  color_variation  \\\n",
       "2          4.626722            0                  1        25.126763   \n",
       "4          1.298122            1                  1        88.037816   \n",
       "12         1.644973            0                  1        30.877678   \n",
       "21         1.297334            0                  1        35.866035   \n",
       "25         1.298200            0                  1        26.526554   \n",
       "\n",
       "    border_irregularity  compactness  \n",
       "2          1.662607e-01     0.216136  \n",
       "4          0.000000e+00     0.770344  \n",
       "12         4.696488e-02     0.607913  \n",
       "21         0.000000e+00     0.770811  \n",
       "25         5.898384e-07     0.770297  "
      ]
     },
     "execution_count": 35,
     "metadata": {},
     "output_type": "execute_result"
    }
   ],
   "source": [
    "skin_balanced.head()"
   ]
  },
  {
   "cell_type": "code",
   "execution_count": 36,
   "id": "d95d709a",
   "metadata": {},
   "outputs": [
    {
     "data": {
      "text/plain": [
       "isic_id                  0\n",
       "age_approx             112\n",
       "diagnosis_1              0\n",
       "sex                    106\n",
       "diameter_pixels          0\n",
       "asymmetry_score          0\n",
       "sex_encoded              0\n",
       "diagnosis_encoded        0\n",
       "color_variation          0\n",
       "border_irregularity      0\n",
       "compactness              0\n",
       "dtype: int64"
      ]
     },
     "execution_count": 36,
     "metadata": {},
     "output_type": "execute_result"
    }
   ],
   "source": [
    "skin_balanced.isnull().sum()"
   ]
  },
  {
   "cell_type": "code",
   "execution_count": 37,
   "id": "05817ae2",
   "metadata": {},
   "outputs": [],
   "source": [
    "# Droping non encoded values \n",
    "skin_balanced.drop(['sex','diagnosis_1'] ,axis=1 , inplace=True)"
   ]
  },
  {
   "cell_type": "code",
   "execution_count": 38,
   "id": "2fb09cbc",
   "metadata": {},
   "outputs": [
    {
     "data": {
      "text/html": [
       "<div>\n",
       "<style scoped>\n",
       "    .dataframe tbody tr th:only-of-type {\n",
       "        vertical-align: middle;\n",
       "    }\n",
       "\n",
       "    .dataframe tbody tr th {\n",
       "        vertical-align: top;\n",
       "    }\n",
       "\n",
       "    .dataframe thead th {\n",
       "        text-align: right;\n",
       "    }\n",
       "</style>\n",
       "<table border=\"1\" class=\"dataframe\">\n",
       "  <thead>\n",
       "    <tr style=\"text-align: right;\">\n",
       "      <th></th>\n",
       "      <th>isic_id</th>\n",
       "      <th>age_approx</th>\n",
       "      <th>diameter_pixels</th>\n",
       "      <th>asymmetry_score</th>\n",
       "      <th>sex_encoded</th>\n",
       "      <th>diagnosis_encoded</th>\n",
       "      <th>color_variation</th>\n",
       "      <th>border_irregularity</th>\n",
       "      <th>compactness</th>\n",
       "    </tr>\n",
       "  </thead>\n",
       "  <tbody>\n",
       "    <tr>\n",
       "      <th>2</th>\n",
       "      <td>ISIC_0000002</td>\n",
       "      <td>60.0</td>\n",
       "      <td>587.055908</td>\n",
       "      <td>4.626722</td>\n",
       "      <td>0</td>\n",
       "      <td>1</td>\n",
       "      <td>25.126763</td>\n",
       "      <td>1.662607e-01</td>\n",
       "      <td>0.216136</td>\n",
       "    </tr>\n",
       "    <tr>\n",
       "      <th>4</th>\n",
       "      <td>ISIC_0000004</td>\n",
       "      <td>80.0</td>\n",
       "      <td>1019.000000</td>\n",
       "      <td>1.298122</td>\n",
       "      <td>1</td>\n",
       "      <td>1</td>\n",
       "      <td>88.037816</td>\n",
       "      <td>0.000000e+00</td>\n",
       "      <td>0.770344</td>\n",
       "    </tr>\n",
       "    <tr>\n",
       "      <th>12</th>\n",
       "      <td>ISIC_0000013</td>\n",
       "      <td>30.0</td>\n",
       "      <td>551.348999</td>\n",
       "      <td>1.644973</td>\n",
       "      <td>0</td>\n",
       "      <td>1</td>\n",
       "      <td>30.877678</td>\n",
       "      <td>4.696488e-02</td>\n",
       "      <td>0.607913</td>\n",
       "    </tr>\n",
       "    <tr>\n",
       "      <th>21</th>\n",
       "      <td>ISIC_0000022</td>\n",
       "      <td>55.0</td>\n",
       "      <td>1503.000000</td>\n",
       "      <td>1.297334</td>\n",
       "      <td>0</td>\n",
       "      <td>1</td>\n",
       "      <td>35.866035</td>\n",
       "      <td>0.000000e+00</td>\n",
       "      <td>0.770811</td>\n",
       "    </tr>\n",
       "    <tr>\n",
       "      <th>25</th>\n",
       "      <td>ISIC_0000026</td>\n",
       "      <td>30.0</td>\n",
       "      <td>1503.000000</td>\n",
       "      <td>1.298200</td>\n",
       "      <td>0</td>\n",
       "      <td>1</td>\n",
       "      <td>26.526554</td>\n",
       "      <td>5.898384e-07</td>\n",
       "      <td>0.770297</td>\n",
       "    </tr>\n",
       "  </tbody>\n",
       "</table>\n",
       "</div>"
      ],
      "text/plain": [
       "         isic_id  age_approx  diameter_pixels  asymmetry_score  sex_encoded  \\\n",
       "2   ISIC_0000002        60.0       587.055908         4.626722            0   \n",
       "4   ISIC_0000004        80.0      1019.000000         1.298122            1   \n",
       "12  ISIC_0000013        30.0       551.348999         1.644973            0   \n",
       "21  ISIC_0000022        55.0      1503.000000         1.297334            0   \n",
       "25  ISIC_0000026        30.0      1503.000000         1.298200            0   \n",
       "\n",
       "    diagnosis_encoded  color_variation  border_irregularity  compactness  \n",
       "2                   1        25.126763         1.662607e-01     0.216136  \n",
       "4                   1        88.037816         0.000000e+00     0.770344  \n",
       "12                  1        30.877678         4.696488e-02     0.607913  \n",
       "21                  1        35.866035         0.000000e+00     0.770811  \n",
       "25                  1        26.526554         5.898384e-07     0.770297  "
      ]
     },
     "execution_count": 38,
     "metadata": {},
     "output_type": "execute_result"
    }
   ],
   "source": [
    "skin_balanced.head()"
   ]
  },
  {
   "cell_type": "code",
   "execution_count": 39,
   "id": "86e87b3a",
   "metadata": {},
   "outputs": [],
   "source": [
    "skin_balanced.drop(['isic_id'] ,axis=1 ,  inplace=True)"
   ]
  },
  {
   "cell_type": "code",
   "execution_count": 40,
   "id": "16301aed",
   "metadata": {},
   "outputs": [],
   "source": [
    "skin_balanced = skin_balanced.copy()\n",
    "skin_balanced['age_approx'] = skin_balanced['age_approx'].fillna(skin_balanced['age_approx'].median())"
   ]
  },
  {
   "cell_type": "code",
   "execution_count": 41,
   "id": "3c3e4286",
   "metadata": {},
   "outputs": [
    {
     "data": {
      "text/html": [
       "<div>\n",
       "<style scoped>\n",
       "    .dataframe tbody tr th:only-of-type {\n",
       "        vertical-align: middle;\n",
       "    }\n",
       "\n",
       "    .dataframe tbody tr th {\n",
       "        vertical-align: top;\n",
       "    }\n",
       "\n",
       "    .dataframe thead th {\n",
       "        text-align: right;\n",
       "    }\n",
       "</style>\n",
       "<table border=\"1\" class=\"dataframe\">\n",
       "  <thead>\n",
       "    <tr style=\"text-align: right;\">\n",
       "      <th></th>\n",
       "      <th>age_approx</th>\n",
       "      <th>diameter_pixels</th>\n",
       "      <th>asymmetry_score</th>\n",
       "      <th>sex_encoded</th>\n",
       "      <th>diagnosis_encoded</th>\n",
       "      <th>color_variation</th>\n",
       "      <th>border_irregularity</th>\n",
       "      <th>compactness</th>\n",
       "    </tr>\n",
       "  </thead>\n",
       "  <tbody>\n",
       "    <tr>\n",
       "      <th>2</th>\n",
       "      <td>60.0</td>\n",
       "      <td>587.055908</td>\n",
       "      <td>4.626722</td>\n",
       "      <td>0</td>\n",
       "      <td>1</td>\n",
       "      <td>25.126763</td>\n",
       "      <td>1.662607e-01</td>\n",
       "      <td>0.216136</td>\n",
       "    </tr>\n",
       "    <tr>\n",
       "      <th>4</th>\n",
       "      <td>80.0</td>\n",
       "      <td>1019.000000</td>\n",
       "      <td>1.298122</td>\n",
       "      <td>1</td>\n",
       "      <td>1</td>\n",
       "      <td>88.037816</td>\n",
       "      <td>0.000000e+00</td>\n",
       "      <td>0.770344</td>\n",
       "    </tr>\n",
       "    <tr>\n",
       "      <th>12</th>\n",
       "      <td>30.0</td>\n",
       "      <td>551.348999</td>\n",
       "      <td>1.644973</td>\n",
       "      <td>0</td>\n",
       "      <td>1</td>\n",
       "      <td>30.877678</td>\n",
       "      <td>4.696488e-02</td>\n",
       "      <td>0.607913</td>\n",
       "    </tr>\n",
       "    <tr>\n",
       "      <th>21</th>\n",
       "      <td>55.0</td>\n",
       "      <td>1503.000000</td>\n",
       "      <td>1.297334</td>\n",
       "      <td>0</td>\n",
       "      <td>1</td>\n",
       "      <td>35.866035</td>\n",
       "      <td>0.000000e+00</td>\n",
       "      <td>0.770811</td>\n",
       "    </tr>\n",
       "    <tr>\n",
       "      <th>25</th>\n",
       "      <td>30.0</td>\n",
       "      <td>1503.000000</td>\n",
       "      <td>1.298200</td>\n",
       "      <td>0</td>\n",
       "      <td>1</td>\n",
       "      <td>26.526554</td>\n",
       "      <td>5.898384e-07</td>\n",
       "      <td>0.770297</td>\n",
       "    </tr>\n",
       "  </tbody>\n",
       "</table>\n",
       "</div>"
      ],
      "text/plain": [
       "    age_approx  diameter_pixels  asymmetry_score  sex_encoded  \\\n",
       "2         60.0       587.055908         4.626722            0   \n",
       "4         80.0      1019.000000         1.298122            1   \n",
       "12        30.0       551.348999         1.644973            0   \n",
       "21        55.0      1503.000000         1.297334            0   \n",
       "25        30.0      1503.000000         1.298200            0   \n",
       "\n",
       "    diagnosis_encoded  color_variation  border_irregularity  compactness  \n",
       "2                   1        25.126763         1.662607e-01     0.216136  \n",
       "4                   1        88.037816         0.000000e+00     0.770344  \n",
       "12                  1        30.877678         4.696488e-02     0.607913  \n",
       "21                  1        35.866035         0.000000e+00     0.770811  \n",
       "25                  1        26.526554         5.898384e-07     0.770297  "
      ]
     },
     "execution_count": 41,
     "metadata": {},
     "output_type": "execute_result"
    }
   ],
   "source": [
    "skin_balanced.head()"
   ]
  },
  {
   "cell_type": "code",
   "execution_count": 42,
   "id": "6e8bdb29",
   "metadata": {},
   "outputs": [
    {
     "name": "stdout",
     "output_type": "stream",
     "text": [
      "Diagnosis encoding: [0 1]\n"
     ]
    }
   ],
   "source": [
    "print(\"Diagnosis encoding:\", skin_data_clean['diagnosis_encoded'].unique())"
   ]
  },
  {
   "cell_type": "code",
   "execution_count": 43,
   "id": "78f11695",
   "metadata": {},
   "outputs": [
    {
     "data": {
      "text/plain": [
       "age_approx             0\n",
       "diameter_pixels        0\n",
       "asymmetry_score        0\n",
       "sex_encoded            0\n",
       "diagnosis_encoded      0\n",
       "color_variation        0\n",
       "border_irregularity    0\n",
       "compactness            0\n",
       "dtype: int64"
      ]
     },
     "execution_count": 43,
     "metadata": {},
     "output_type": "execute_result"
    }
   ],
   "source": [
    "skin_balanced.isnull().sum()"
   ]
  },
  {
   "cell_type": "markdown",
   "id": "939585c4",
   "metadata": {},
   "source": [
    "# Trainig a modles "
   ]
  },
  {
   "cell_type": "code",
   "execution_count": 44,
   "id": "788e7a9d",
   "metadata": {},
   "outputs": [],
   "source": [
    "# using only 5 futures becouse in KNN model prediction was performing well with both 5 and 7 futures \n",
    "# but RF not performing well with all 7 future so i decided to take only 5 futures \n",
    "\n",
    "X = skin_balanced[['age_approx',\t'asymmetry_score',\t'sex_encoded', 'border_irregularity',\t'compactness',\n",
    "                   \t'diameter_pixels','color_variation' ]].values\n",
    "\n",
    "y = skin_balanced['diagnosis_encoded'].values\n"
   ]
  },
  {
   "cell_type": "code",
   "execution_count": 45,
   "id": "6ba3ad43",
   "metadata": {},
   "outputs": [
    {
     "name": "stdout",
     "output_type": "stream",
     "text": [
      "Features:\n",
      "[[6.00000000e+01 4.62672219e+00 0.00000000e+00 1.66260732e-01\n",
      "  2.16135735e-01 5.87055908e+02 2.51267627e+01]\n",
      " [8.00000000e+01 1.29812187e+00 1.00000000e+00 0.00000000e+00\n",
      "  7.70343696e-01 1.01900000e+03 8.80378157e+01]\n",
      " [3.00000000e+01 1.64497278e+00 0.00000000e+00 4.69648764e-02\n",
      "  6.07912794e-01 5.51348999e+02 3.08776776e+01]\n",
      " [5.50000000e+01 1.29733427e+00 0.00000000e+00 0.00000000e+00\n",
      "  7.70811366e-01 1.50300000e+03 3.58660348e+01]\n",
      " [3.00000000e+01 1.29819982e+00 0.00000000e+00 5.89838440e-07\n",
      "  7.70297443e-01 1.50300000e+03 2.65265535e+01]]\n",
      "\n",
      "Labels:\n",
      "[1 1 1 1 1 1 1 1 1 1]\n",
      "\n",
      "X shape: (748, 7)\n",
      "y shape: (748,)\n",
      "\n"
     ]
    }
   ],
   "source": [
    "X_train , X_test , y_train , y_test = train_test_split(X , y , test_size=0.2 ,  random_state=42 , stratify=y)\n",
    "print('Features:',X[:5], '\\nLabels:', y[:10], sep='\\n')\n",
    "print(\"\")\n",
    "print(\"X shape:\", X.shape)\n",
    "print(\"y shape:\", y.shape)\n",
    "print(\"\")"
   ]
  },
  {
   "cell_type": "code",
   "execution_count": 46,
   "id": "6c026f98",
   "metadata": {},
   "outputs": [
    {
     "name": "stdout",
     "output_type": "stream",
     "text": [
      "[[ 0.60373637 -0.61072853  0.3510817  -1.3250101   3.45465317  1.41263139\n",
      "   3.88249576]\n",
      " [-0.77953699 -0.54247704 -1.10688257 -0.95414221  0.77413691 -0.46173904\n",
      "  -0.11071336]\n",
      " [ 0.05042702  0.72274429  1.80904596  0.05782671 -0.89350824  2.15903568\n",
      "   0.47654818]\n",
      " [ 1.43370038 -0.23847609  0.3510817  -0.51637401 -0.54674867  0.19701526\n",
      "  -1.13920502]\n",
      " [-0.50288232 -0.50153704 -1.10688257 -0.42965534  0.29531927 -0.67826021\n",
      "  -0.80460825]]\n"
     ]
    }
   ],
   "source": [
    "# Scalling futures becouse future values are varing critical for KNN\n",
    "\n",
    "scalar =  StandardScaler()\n",
    "X_train_scaled = scalar.fit_transform(X_train)\n",
    "X_test_scaled = scalar.transform(X_test)\n",
    "print(X_test_scaled[:5])"
   ]
  },
  {
   "cell_type": "code",
   "execution_count": 47,
   "id": "a4c35130",
   "metadata": {},
   "outputs": [
    {
     "name": "stdout",
     "output_type": "stream",
     "text": [
      "KNeighborsClassifier(n_neighbors=15, weights='distance')\n"
     ]
    }
   ],
   "source": [
    "# Train KNN Model\n",
    "model_K = KNeighborsClassifier(\n",
    "    n_neighbors=15,\n",
    "    weights='distance',\n",
    "    leaf_size=30,\n",
    ")\n",
    "\n",
    "#model = KNeighborsClassifier(n_neighbors=7)\n",
    "\n",
    "model_K.fit(X_train_scaled , y_train)\n",
    "print(model_K)\n",
    "# algorithem = \"ball_tree\", \"kd_tree\", \"brute\""
   ]
  },
  {
   "cell_type": "code",
   "execution_count": 48,
   "id": "edbed18c",
   "metadata": {},
   "outputs": [
    {
     "name": "stdout",
     "output_type": "stream",
     "text": [
      "Classification report =                precision    recall  f1-score   support\n",
      "\n",
      "           0       0.67      0.59      0.62        75\n",
      "           1       0.63      0.71      0.67        75\n",
      "\n",
      "    accuracy                           0.65       150\n",
      "   macro avg       0.65      0.65      0.65       150\n",
      "weighted avg       0.65      0.65      0.65       150\n",
      "\n",
      "predicted values =  [1 0 1 1 0 1 0 1 0 1]\n",
      "Actual values =  [1 0 0 1 0 1 0 1 0 1]\n",
      "F1 Score =  0.6666666666666666\n",
      "\n",
      "[[44 31]\n",
      " [22 53]]\n",
      "\n",
      "Unique predictions: [0 1]\n"
     ]
    }
   ],
   "source": [
    "prediction = model_K.predict(X_test_scaled)\n",
    "print(\"Classification report = \" , classification_report(y_test , prediction))\n",
    "print(\"predicted values = \" , prediction[:10])\n",
    "print(\"Actual values = \", y_test[:10])\n",
    "\n",
    "print(\"F1 Score = \" , f1_score(y_test , prediction))\n",
    "\n",
    "# evaluating model\n",
    "print(\"\")\n",
    "print(confusion_matrix(y_test , prediction))\n",
    "print(\"\")\n",
    "print(\"Unique predictions:\", np.unique(prediction))"
   ]
  },
  {
   "cell_type": "code",
   "execution_count": 49,
   "id": "08839ca5",
   "metadata": {},
   "outputs": [
    {
     "data": {
      "image/png": "[encoded data removed]",
      "text/plain": [
       "<Figure size 600x600 with 1 Axes>"
      ]
     },
     "metadata": {},
     "output_type": "display_data"
    }
   ],
   "source": [
    "y_score = model_K.predict_proba(X_test_scaled)\n",
    "fpr , tpr , thresholds  = roc_curve(y_test , y_score[:,1])\n",
    "fig = plt.figure(figsize=(6,6))\n",
    "plt.plot([0,1],[0,1],'k--')\n",
    "plt.plot(fpr , tpr)\n",
    "plt.xlabel('False Positive Rate')\n",
    "plt.ylabel('True Positive Rate')\n",
    "plt.title('KNN ROC Curve')\n",
    "plt.show()"
   ]
  },
  {
   "cell_type": "markdown",
   "id": "a3f83d90",
   "metadata": {},
   "source": [
    "# Training a ensemble modle (Random forest calssifier)"
   ]
  },
  {
   "cell_type": "code",
   "execution_count": 50,
   "id": "96dd6c21",
   "metadata": {},
   "outputs": [
    {
     "name": "stdout",
     "output_type": "stream",
     "text": [
      "RandomForestClassifier(class_weight='balanced', max_depth=5, min_samples_leaf=4,\n",
      "                       n_estimators=11, random_state=42)\n"
     ]
    }
   ],
   "source": [
    "model_R = RandomForestClassifier(n_estimators=11, class_weight= 'balanced',max_depth=5, random_state=42, min_samples_leaf=4)\n",
    "model_R.fit(X_train , y_train)\n",
    "print(model_R)\n",
    "\n"
   ]
  },
  {
   "cell_type": "code",
   "execution_count": 51,
   "id": "b6438f9a",
   "metadata": {},
   "outputs": [
    {
     "name": "stdout",
     "output_type": "stream",
     "text": [
      "Classification report =                precision    recall  f1-score   support\n",
      "\n",
      "           0       0.70      0.68      0.69        75\n",
      "           1       0.69      0.71      0.70        75\n",
      "\n",
      "    accuracy                           0.69       150\n",
      "   macro avg       0.69      0.69      0.69       150\n",
      "weighted avg       0.69      0.69      0.69       150\n",
      "\n",
      "predicted values =  [1 0 1 1 0 1 0 1 0 1]\n",
      "Actual values =  [1 0 0 1 0 1 0 1 0 1]\n",
      "F1 Score =  0.6973684210526315\n",
      "\n",
      "[[51 24]\n",
      " [22 53]]\n",
      "\n",
      "Unique predictions: [0 1]\n"
     ]
    }
   ],
   "source": [
    "prediction_2 = model_R.predict(X_test) \n",
    "print(\"Classification report = \" , classification_report(y_test , prediction_2))\n",
    "print(\"predicted values = \" , prediction_2[:10])\n",
    "print(\"Actual values = \", y_test[:10])\n",
    "\n",
    "print(\"F1 Score = \" , f1_score(y_test , prediction_2))\n",
    "\n",
    "# evaluating model\n",
    "print(\"\")\n",
    "print(confusion_matrix(y_test , prediction_2))\n",
    "print(\"\")\n",
    "print(\"Unique predictions:\", np.unique(prediction_2))"
   ]
  },
  {
   "cell_type": "code",
   "execution_count": 52,
   "id": "77c2074d",
   "metadata": {},
   "outputs": [
    {
     "data": {
      "image/png": "[encoded data removed]",
      "text/plain": [
       "<Figure size 600x600 with 1 Axes>"
      ]
     },
     "metadata": {},
     "output_type": "display_data"
    }
   ],
   "source": [
    "y_score = model_R.predict_proba(X_test)\n",
    "fpr , tpr , thresholds  = roc_curve(y_test , y_score[:,1])\n",
    "fig = plt.figure(figsize=(6,6))\n",
    "plt.plot([0,1],[0,1],'k--')\n",
    "plt.plot(fpr , tpr)\n",
    "plt.xlabel('False Positive Rate')\n",
    "plt.ylabel('True Positive Rate')\n",
    "plt.title('Random Foreest ROC Curve')\n",
    "plt.show()"
   ]
  },
  {
   "cell_type": "code",
   "execution_count": 53,
   "id": "0b5712fc",
   "metadata": {},
   "outputs": [],
   "source": [
    "# Save the EXACT 748 images you used for 75% result\n",
    "# skin_balanced.to_csv('skin_balanced_dataset.csv', index=False)\n",
    "\n",
    "# # Also save the exact train/test split indices\n",
    "# import pickle\n",
    "\n",
    "# train_indices = {'X_train_indices': X_train.index if hasattr(X_train, 'index') else list(range(len(X_train)))}\n",
    "# with open('train_test_indices.pkl', 'wb') as f:\n",
    "#     pickle.dump(train_indices, f)\n",
    "\n",
    "# print(\"✅ Dataset saved! Now you can reproduce results!\")"
   ]
  },
  {
   "cell_type": "markdown",
   "id": "c97dbb95",
   "metadata": {},
   "source": [
    "### Checking which model is better performing"
   ]
  },
  {
   "cell_type": "code",
   "execution_count": 54,
   "id": "38f346d2",
   "metadata": {},
   "outputs": [
    {
     "ename": "NameError",
     "evalue": "name 'model' is not defined",
     "output_type": "error",
     "traceback": [
      "\u001b[31m---------------------------------------------------------------------------\u001b[39m",
      "\u001b[31mNameError\u001b[39m                                 Traceback (most recent call last)",
      "\u001b[36mCell\u001b[39m\u001b[36m \u001b[39m\u001b[32mIn[54]\u001b[39m\u001b[32m, line 2\u001b[39m\n\u001b[32m      1\u001b[39m \u001b[38;5;66;03m# Get predictions from both models\u001b[39;00m\n\u001b[32m----> \u001b[39m\u001b[32m2\u001b[39m knn_predictions = \u001b[43mmodel\u001b[49m.predict(X_test_scaled)\n\u001b[32m      3\u001b[39m rf_predictions = model_R.predict(X_test)\n\u001b[32m      5\u001b[39m \u001b[38;5;66;03m# Find where they DISAGREE\u001b[39;00m\n",
      "\u001b[31mNameError\u001b[39m: name 'model' is not defined"
     ]
    }
   ],
   "source": [
    "# Get predictions from both models\n",
    "knn_predictions = model.predict(X_test_scaled)\n",
    "rf_predictions = model_R.predict(X_test)\n",
    "\n",
    "# Find where they DISAGREE\n",
    "disagreements = (knn_predictions != rf_predictions)\n",
    "print(f\"Models disagree on {disagreements.sum()} out of {len(y_test)} images\")\n",
    "print(f\"Disagreement rate: {disagreements.sum() / len(y_test) * 100:.1f}%\")\n",
    "\n",
    "# Show examples where they disagree\n",
    "conflict_indices = np.where(disagreements)[0]\n",
    "print(\"\\nConflict examples:\")\n",
    "for i in conflict_indices[:5]:\n",
    "    print(f\"Image {i}: KNN={knn_predictions[i]}, RF={rf_predictions[i]}, Actual={y_test[i]}\")"
   ]
  },
  {
   "cell_type": "markdown",
   "id": "18404897",
   "metadata": {},
   "source": [
    "# -------------------------------------------------------------------------\n",
    "##### Note:- KNN beating RF in model disagree  \n",
    "##### 26.7% disagreement rate = 40 conflicting predictions! , In these 5 conflict examples:  \"KNN was RIGHT 5 times\"\n",
    "##### \"RF was WRONG 5 times\" ,  Pattern spotted: When they disagree, KNN seems more reliable!\n",
    "##### after this i analyzed with 40 Conflicts right below "
   ]
  },
  {
   "cell_type": "markdown",
   "id": "42933be3",
   "metadata": {},
   "source": [
    "#### Analizing All 40 Conflicts:"
   ]
  },
  {
   "cell_type": "code",
   "execution_count": null,
   "id": "422e3292",
   "metadata": {},
   "outputs": [
    {
     "name": "stdout",
     "output_type": "stream",
     "text": [
      "CONFLICT RESOLUTION ANALYSIS:\n",
      "KNN was correct: 16 times\n",
      "RF was correct: 23 times\n",
      "Both were wrong: 0 times\n",
      "\n",
      "KNN win rate in conflicts: 41.0%\n",
      "RF win rate in conflicts: 59.0%\n"
     ]
    }
   ],
   "source": [
    "# For all 40 disagreements, who was right ?\n",
    "conflict_indices = np.where(disagreements)[0]\n",
    "\n",
    "knn_correct = 0\n",
    "rf_correct = 0\n",
    "both_wrong = 0\n",
    "\n",
    "for i in conflict_indices:\n",
    "    actual = y_test[i]\n",
    "    knn_pred = knn_predictions[i]\n",
    "    rf_pred = rf_predictions[i]\n",
    "    \n",
    "    if knn_pred == actual and rf_pred != actual:\n",
    "        knn_correct += 1\n",
    "    elif rf_pred == actual and knn_pred != actual:\n",
    "        rf_correct += 1\n",
    "    else:\n",
    "        both_wrong += 1\n",
    "\n",
    "print(\"CONFLICT RESOLUTION ANALYSIS:\")\n",
    "print(f\"KNN was correct: {knn_correct} times\")\n",
    "print(f\"RF was correct: {rf_correct} times\")\n",
    "print(f\"Both were wrong: {both_wrong} times\")\n",
    "print(f\"\\nKNN win rate in conflicts: {knn_correct/(knn_correct+rf_correct)*100:.1f}%\")\n",
    "print(f\"RF win rate in conflicts: {rf_correct/(knn_correct+rf_correct)*100:.1f}%\")"
   ]
  },
  {
   "cell_type": "markdown",
   "id": "a309a422",
   "metadata": {},
   "source": [
    "##### 110 agreements (both correct most of the time) \"40 conflicts → Trust KNN → 23 more correct predictions\"\n",
    "##### Potential accuracy boost! ,becouse after analyzing with 40 conflict with bith here \"KNN prediction out performing\""
   ]
  },
  {
   "cell_type": "markdown",
   "id": "b1a3b9c2",
   "metadata": {},
   "source": [
    "#### let's build an intelligent decision system that analyzes the IMAGE characteristics!"
   ]
  },
  {
   "cell_type": "code",
   "execution_count": null,
   "id": "07afaf43",
   "metadata": {},
   "outputs": [
    {
     "name": "stdout",
     "output_type": "stream",
     "text": [
      "\n",
      " WHEN KNN WINS (average features):\n",
      " age: 0.120\n",
      " sex: -0.056\n",
      " asymmetry: 0.533\n",
      " border: -0.192\n",
      " compactness: -0.179\n",
      "\n",
      " WHEN RF WINS (average features):\n",
      " age: 0.002\n",
      " sex: 0.206\n",
      " asymmetry: 0.034\n",
      " border: 0.146\n",
      " compactness: -0.316\n"
     ]
    }
   ],
   "source": [
    "# Instead of just always trust KNN in conflicts ,  lets build an intelligent decision system that analyzes the IMAGE characteristics\n",
    "\n",
    "# Analyze feature patterns in conflicts\n",
    "conflict_data = X_test_scaled[conflict_indices]\n",
    "conflict_actual = y_test[conflict_indices]\n",
    "conflict_knn = knn_predictions[conflict_indices]\n",
    "conflict_rf = rf_predictions[conflict_indices]\n",
    "\n",
    "# When does KNN win vs RF win?\n",
    "knn_wins = []\n",
    "rf_wins = []\n",
    "\n",
    "for i in range(len(conflict_indices)):\n",
    "    features = conflict_data[i]\n",
    "    actual = conflict_actual[i]\n",
    "    knn_pred = conflict_knn[i]\n",
    "    rf_pred = conflict_rf[i]\n",
    "    \n",
    "    if knn_pred == actual:\n",
    "        knn_wins.append(features)\n",
    "    elif rf_pred == actual:\n",
    "        rf_wins.append(features)\n",
    "\n",
    "knn_wins = np.array(knn_wins)\n",
    "rf_wins = np.array(rf_wins)\n",
    "\n",
    "# Compare average feature values\n",
    "feature_names = ['age', 'sex', 'asymmetry', 'border', 'compactness']\n",
    "print(\"\\n WHEN KNN WINS (average features):\")\n",
    "for i, name in enumerate(feature_names):\n",
    "    print(f\" {name}: {knn_wins[:, i].mean():.3f}\")\n",
    "\n",
    "print(\"\\n WHEN RF WINS (average features):\")\n",
    "for i, name in enumerate(feature_names):\n",
    "    print(f\" {name}: {rf_wins[:, i].mean():.3f}\")"
   ]
  },
  {
   "cell_type": "markdown",
   "id": "76ee12bb",
   "metadata": {},
   "source": [
    "<!-- # Note:- \n",
    "# KNN is better at:\n",
    "# Complex, irregular lesions (high asymmetry)\n",
    "# Older patients (age-related patterns)\n",
    "\n",
    "#------------------------------------------------------------------------------------------------------\n",
    "\n",
    "# RF is better at:\n",
    "# Simpler, more symmetric lesions (low asymmetry)\n",
    "# Younger patients\n",
    "# ------------------------------------------------------------------------------------------------------\n",
    "\n",
    "# This makes medical sense! Different lesion types need different diagnostic approaches! \n",
    "\n",
    "# KNN WINS when:\n",
    "#  age: 0.159 (older patients)\n",
    "#  asymmetry: 0.224 (MORE asymmetric lesions)\n",
    "#  border: -0.270 (smoother borders)\n",
    "\n",
    "# RF WINS when:\n",
    "#  age: -0.031 (younger patients)\n",
    "#  asymmetry: -0.678 (LESS asymmetric lesions)\n",
    "#  border: -0.331 (even smoother borders) -->"
   ]
  },
  {
   "cell_type": "markdown",
   "id": "aac3d674",
   "metadata": {},
   "source": [
    "Note:- \n",
    "KNN is better at:\n",
    "Complex, irregular lesions (high asymmetry)\n",
    "Older patients (age-related patterns)\n",
    "\n",
    "\n",
    "\n",
    "RF is better at:\n",
    "Simpler, more symmetric lesions (low asymmetry)\n",
    "Younger patients\n",
    "\n",
    "This makes medical sense! Different lesion types need different diagnostic approaches! \n",
    "\n",
    "KNN WINS when:\n",
    " age: 0.159 (older patients)\n",
    " asymmetry: 0.224 (MORE asymmetric lesions)\n",
    " border: -0.270 (smoother borders)\n",
    "\n",
    "RF WINS when:\n",
    " age: -0.031 (younger patients)\n",
    " asymmetry: -0.678 (LESS asymmetric lesions)\n",
    " border: -0.331 (even smoother borders)"
   ]
  },
  {
   "cell_type": "markdown",
   "id": "d96f2616",
   "metadata": {},
   "source": [
    "##  INTELLIGENT ENSEMBLE SYSTEM:"
   ]
  },
  {
   "cell_type": "code",
   "execution_count": null,
   "id": "35ccf90d",
   "metadata": {},
   "outputs": [
    {
     "name": "stdout",
     "output_type": "stream",
     "text": [
      " INTELLIGENT ENSEMBLE RESULTS:\n",
      "              precision    recall  f1-score   support\n",
      "\n",
      "           0       0.73      0.59      0.65        75\n",
      "           1       0.66      0.79      0.72        75\n",
      "\n",
      "    accuracy                           0.69       150\n",
      "   macro avg       0.69      0.69      0.68       150\n",
      "weighted avg       0.69      0.69      0.68       150\n",
      "\n",
      "\n",
      "Ensemble F1 Score: 0.7152\n",
      "KNN F1 Score: 0.6667\n",
      "RF F1 Score: 0.6974\n"
     ]
    }
   ],
   "source": [
    "def intelligent_ensemble(knn_pred, rf_pred, features):\n",
    "    \"\"\"\n",
    "    Smart conflict resolution based on lesion characteristics\n",
    "    features = [age, sex, asymmetry, border, compactness] (scaled)\n",
    "    \"\"\"\n",
    "    # If they agree, return that prediction\n",
    "    if knn_pred == rf_pred:\n",
    "        return knn_pred\n",
    "    \n",
    "    # If they disagree, analyze features\n",
    "    age = features[0]\n",
    "    asymmetry = features[2]\n",
    "    \n",
    "    # I found WHEN to trust which AI model based on the patient and lesion characteristics!\n",
    "    # Decision rules based on my  discovery:\n",
    "    # KNN better for: older patients + high asymmetry\n",
    "    # RF better for: younger patients + low asymmetry\n",
    "    \n",
    "    if asymmetry > 0:  # High asymmetry\n",
    "        return knn_pred  # Trust KNN\n",
    "    else:  # Low asymmetry\n",
    "        return rf_pred   # Trust RF\n",
    "\n",
    "# Test it\n",
    "ensemble_predictions = []\n",
    "for i in range(len(X_test_scaled)):\n",
    "    knn_p = knn_predictions[i]\n",
    "    rf_p = rf_predictions[i]\n",
    "    features = X_test_scaled[i]\n",
    "    \n",
    "    pred = intelligent_ensemble(knn_p, rf_p, features)\n",
    "    ensemble_predictions.append(pred)\n",
    "\n",
    "ensemble_predictions = np.array(ensemble_predictions)\n",
    "\n",
    "# Evaluate\n",
    "from sklearn.metrics import classification_report, f1_score\n",
    "print(\" INTELLIGENT ENSEMBLE RESULTS:\")\n",
    "print(classification_report(y_test, ensemble_predictions))\n",
    "print(f\"\\nEnsemble F1 Score: {f1_score(y_test, ensemble_predictions):.4f}\")\n",
    "print(f\"KNN F1 Score: {f1_score(y_test, knn_predictions):.4f}\")\n",
    "print(f\"RF F1 Score: {f1_score(y_test, rf_predictions):.4f}\")"
   ]
  },
  {
   "cell_type": "code",
   "execution_count": null,
   "id": "27902a73",
   "metadata": {},
   "outputs": [
    {
     "name": "stdout",
     "output_type": "stream",
     "text": [
      "WHEN KNN WINS (actual values):\n",
      "Average age: 56.2 years\n",
      "Age range: 40 - 85\n",
      "Average asymmetry: 1.12\n",
      "\n",
      " WHEN RF WINS (actual values):\n",
      "Average age: 54.1 years\n",
      "Age range: 25 - 80\n",
      "Average asymmetry: 0.78\n"
     ]
    }
   ],
   "source": [
    "# Get UNSCALED features for conflicts\n",
    "conflict_indices_list = conflict_indices.tolist()\n",
    "\n",
    "# Extract actual ages (before scaling)\n",
    "knn_win_actual = []\n",
    "rf_win_actual = []\n",
    "\n",
    "for i in conflict_indices_list:\n",
    "    # Get the actual row index in original data\n",
    "    actual_age = X_test.iloc[i]['age_approx'] if isinstance(X_test, pd.DataFrame) else X_test[i, 0]\n",
    "    actual_asymmetry = X_test.iloc[i]['asymmetry_score'] if isinstance(X_test, pd.DataFrame) else X_test[i, 2]\n",
    "    \n",
    "    actual = y_test[i]\n",
    "    knn_pred = knn_predictions[i]\n",
    "    rf_pred = rf_predictions[i]\n",
    "    \n",
    "    if knn_pred == actual:\n",
    "        knn_win_actual.append({'age': actual_age, 'asymmetry': actual_asymmetry})\n",
    "    elif rf_pred == actual:\n",
    "        rf_win_actual.append({'age': actual_age, 'asymmetry': actual_asymmetry})\n",
    "\n",
    "# Calculate averages\n",
    "import pandas as pd\n",
    "knn_wins_df = pd.DataFrame(knn_win_actual)\n",
    "rf_wins_df = pd.DataFrame(rf_win_actual)\n",
    "\n",
    "print(\"WHEN KNN WINS (actual values):\")\n",
    "print(f\"Average age: {knn_wins_df['age'].mean():.1f} years\")\n",
    "print(f\"Age range: {knn_wins_df['age'].min():.0f} - {knn_wins_df['age'].max():.0f}\")\n",
    "print(f\"Average asymmetry: {knn_wins_df['asymmetry'].mean():.2f}\")\n",
    "\n",
    "print(\"\\n WHEN RF WINS (actual values):\")\n",
    "print(f\"Average age: {rf_wins_df['age'].mean():.1f} years\")\n",
    "print(f\"Age range: {rf_wins_df['age'].min():.0f} - {rf_wins_df['age'].max():.0f}\")\n",
    "print(f\"Average asymmetry: {rf_wins_df['asymmetry'].mean():.2f}\")"
   ]
  },
  {
   "cell_type": "code",
   "execution_count": null,
   "id": "ebe7110f",
   "metadata": {},
   "outputs": [
    {
     "name": "stdout",
     "output_type": "stream",
     "text": [
      "Current Results Check:\n",
      "KNN F1: 0.6667\n",
      "RF F1: 0.6974\n",
      "Ensemble F1: 0.7152\n",
      "\n",
      "Test set size: 150\n",
      "Train set size: 598\n",
      "Conflicts: 39\n"
     ]
    }
   ],
   "source": [
    "# Checking  current setup\n",
    "print(\"Current Results Check:\")\n",
    "print(f\"KNN F1: {f1_score(y_test, knn_predictions):.4f}\")\n",
    "print(f\"RF F1: {f1_score(y_test, rf_predictions):.4f}\")\n",
    "print(f\"Ensemble F1: {f1_score(y_test, ensemble_predictions):.4f}\")\n",
    "print(f\"\\nTest set size: {len(y_test)}\")\n",
    "print(f\"Train set size: {len(y_train)}\")\n",
    "print(f\"Conflicts: {(knn_predictions != rf_predictions).sum()}\")"
   ]
  },
  {
   "cell_type": "markdown",
   "id": "fb1218d2",
   "metadata": {},
   "source": [
    "### <---- SAVE  MODELS ----->"
   ]
  },
  {
   "cell_type": "code",
   "execution_count": 55,
   "id": "d9aa5abf",
   "metadata": {},
   "outputs": [
    {
     "name": "stdout",
     "output_type": "stream",
     "text": [
      "✅ Folders created!\n",
      "✅ Models saved with joblib!\n",
      "\n",
      "Project structure:\n",
      "skin_cancer_app/\n",
      "├── models/\n",
      "│   ├── knn_model.pkl\n",
      "│   ├── rf_model.pkl\n",
      "│   └── scaler.pkl\n",
      "└── utils/\n",
      "\n",
      "✅ Verification:\n",
      "KNN: True\n",
      "RF: True\n",
      "Scalar: True\n",
      "\n",
      "📦 File sizes:\n",
      "KNN: 80.51 KB\n",
      "RF: 37.95 KB\n",
      "Scalar: 0.75 KB\n"
     ]
    }
   ],
   "source": [
    "import joblib\n",
    "import os\n",
    "\n",
    "# Create folder structure\n",
    "os.makedirs('skin_cancer_app/models', exist_ok=True)\n",
    "os.makedirs('skin_cancer_app/utils', exist_ok=True)\n",
    "\n",
    "print(\"✅ Folders created!\")\n",
    "\n",
    "# Save models using joblib (BETTER for ML!)\n",
    "joblib.dump(model_K, 'skin_cancer_app/models/model_K.pkl')\n",
    "joblib.dump(model_R, 'skin_cancer_app/models/model_R.pkl')\n",
    "joblib.dump(scalar, 'skin_cancer_app/models/scalar.pkl')\n",
    "\n",
    "print(\"✅ Models saved with joblib!\")\n",
    "print(\"\\nProject structure:\")\n",
    "print(\"skin_cancer_app/\")\n",
    "print(\"├── models/\")\n",
    "print(\"│   ├── knn_model.pkl\")\n",
    "print(\"│   ├── rf_model.pkl\")\n",
    "print(\"│   └── scaler.pkl\")\n",
    "print(\"└── utils/\")\n",
    "\n",
    "# Verify\n",
    "print(\"\\n✅ Verification:\")\n",
    "print(f\"KNN: {os.path.exists('skin_cancer_app/models/model_K.pkl')}\")\n",
    "print(f\"RF: {os.path.exists('skin_cancer_app/models/model_R.pkl')}\")\n",
    "print(f\"Scalar: {os.path.exists('skin_cancer_app/models/scalar.pkl')}\")\n",
    "\n",
    "# Show file sizes\n",
    "print(\"\\n📦 File sizes:\")\n",
    "print(f\"KNN: {os.path.getsize('skin_cancer_app/models/model_K.pkl')/1024:.2f} KB\")\n",
    "print(f\"RF: {os.path.getsize('skin_cancer_app/models/model_R.pkl')/1024:.2f} KB\")\n",
    "print(f\"Scalar: {os.path.getsize('skin_cancer_app/models/scalar.pkl')/1024:.2f} KB\")"
   ]
  },
  {
   "cell_type": "code",
   "execution_count": 56,
   "id": "fe12fe89",
   "metadata": {},
   "outputs": [
    {
     "name": "stdout",
     "output_type": "stream",
     "text": [
      "✅ feature_extraction.py UPDATED!\n",
      "\n",
      "Now extracts ALL 7 features:\n",
      "1. age (from user)\n",
      "2. sex_encoded (from user)\n",
      "3. diameter_pixels (from image)\n",
      "4. asymmetry_score (from image)\n",
      "5. color_variation (from image)\n",
      "6. border_irregularity (from image)\n",
      "7. compactness (from image)\n"
     ]
    }
   ],
   "source": [
    "# Update feature_extraction.py to return ALL 7 features\n",
    "feature_extraction_code = \"\"\"import cv2\n",
    "import numpy as np\n",
    "\n",
    "def preprocess_lesion(image_path):\n",
    "    '''\n",
    "    Preprocess skin lesion image\n",
    "    Returns: original RGB image and blurred grayscale\n",
    "    '''\n",
    "    img = cv2.imread(image_path)\n",
    "    img_rgb = cv2.cvtColor(img, cv2.COLOR_BGR2RGB)\n",
    "    gray = cv2.cvtColor(img, cv2.COLOR_BGR2GRAY)\n",
    "    blurred = cv2.GaussianBlur(gray, (5, 5), 0)\n",
    "    return img_rgb, blurred\n",
    "\n",
    "\n",
    "def extract_advanced_features(image_path):\n",
    "    '''\n",
    "    Extract 5 medical features from skin lesion image:\n",
    "    - diameter_pixels\n",
    "    - asymmetry_score\n",
    "    - color_variation\n",
    "    - border_irregularity\n",
    "    - compactness\n",
    "    '''\n",
    "    img = cv2.imread(image_path)\n",
    "    img_rgb = cv2.cvtColor(img, cv2.COLOR_BGR2RGB)\n",
    "    gray = cv2.cvtColor(img, cv2.COLOR_BGR2GRAY)\n",
    "    blurred = cv2.GaussianBlur(gray, (5, 5), 0)\n",
    "    \n",
    "    # Threshold and find contours\n",
    "    _, thresh = cv2.threshold(blurred, 0, 255, cv2.THRESH_BINARY_INV + cv2.THRESH_OTSU)\n",
    "    contours, _ = cv2.findContours(thresh, cv2.RETR_EXTERNAL, cv2.CHAIN_APPROX_SIMPLE)\n",
    "    \n",
    "    if contours:\n",
    "        largest_contour = max(contours, key=cv2.contourArea)\n",
    "        \n",
    "        # Calculate intermediate values\n",
    "        area = cv2.contourArea(largest_contour)\n",
    "        perimeter = cv2.arcLength(largest_contour, True)\n",
    "        \n",
    "        # 1. Diameter\n",
    "        rect = cv2.minAreaRect(largest_contour)\n",
    "        diameter = max(rect[1])\n",
    "        \n",
    "        # 2. Asymmetry\n",
    "        asymmetry = perimeter**2 / (4 * np.pi * area) if area > 0 else 0\n",
    "        \n",
    "        # 3. Color Variation\n",
    "        mask = np.zeros(gray.shape, np.uint8)\n",
    "        cv2.drawContours(mask, [largest_contour], 0, 255, -1)\n",
    "        lesion_pixels = img_rgb[mask == 255]\n",
    "        color_std = np.std(lesion_pixels) if len(lesion_pixels) > 0 else 0\n",
    "        \n",
    "        # 4. Border Irregularity\n",
    "        hull = cv2.convexHull(largest_contour)\n",
    "        hull_area = cv2.contourArea(hull)\n",
    "        border_irregularity = (hull_area - area) / hull_area if hull_area > 0 else 0\n",
    "        \n",
    "        # 5. Compactness\n",
    "        compactness = (4 * np.pi * area) / (perimeter**2) if perimeter > 0 else 0\n",
    "        \n",
    "        return diameter, asymmetry, color_std, border_irregularity, compactness\n",
    "    else:\n",
    "        return 0, 0, 0, 0, 0\n",
    "\n",
    "\n",
    "def extract_features_for_prediction(image_path, age, sex):\n",
    "    '''\n",
    "    Extract ALL 7 features needed for model prediction\n",
    "    \n",
    "    Parameters:\n",
    "    - image_path: path to skin lesion image\n",
    "    - age: patient age (numeric)\n",
    "    - sex: patient sex ('male' or 'female')\n",
    "    \n",
    "    Returns:\n",
    "    - numpy array with 7 features: [age, sex, diameter, asymmetry, color, border, compactness]\n",
    "    '''\n",
    "    # Extract 5 image features\n",
    "    diameter, asymmetry, color, border, compactness = extract_advanced_features(image_path)\n",
    "    \n",
    "    # Encode sex\n",
    "    sex_encoded = 1 if sex.lower() == 'male' else 0\n",
    "    \n",
    "    # Return ALL 7 features in EXACT training order\n",
    "    features = np.array([age, sex_encoded, diameter, asymmetry, color, border, compactness])\n",
    "    \n",
    "    return features.reshape(1, -1)  # Reshape for model input\n",
    "\"\"\"\n",
    "\n",
    "# Write updated file\n",
    "with open('skin_cancer_app/utils/feature_extraction.py', 'w') as f:\n",
    "    f.write(feature_extraction_code)\n",
    "\n",
    "print(\"✅ feature_extraction.py UPDATED!\")\n",
    "print(\"\\nNow extracts ALL 7 features:\")\n",
    "print(\"1. age (from user)\")\n",
    "print(\"2. sex_encoded (from user)\")\n",
    "print(\"3. diameter_pixels (from image)\")\n",
    "print(\"4. asymmetry_score (from image)\")\n",
    "print(\"5. color_variation (from image)\")\n",
    "print(\"6. border_irregularity (from image)\")\n",
    "print(\"7. compactness (from image)\")"
   ]
  },
  {
   "cell_type": "code",
   "execution_count": null,
   "id": "f2223fdf",
   "metadata": {},
   "outputs": [
    {
     "name": "stdout",
     "output_type": "stream",
     "text": [
      "✅ ensemble.py created!\n",
      "\n",
      "File location: skin_cancer_app/utils/ensemble.py\n",
      "\n",
      "Class included:\n",
      "- IntelligentEnsemble: Smart conflict resolution system\n",
      "\n",
      "Methods:\n",
      "1. predict_single() - Make intelligent prediction\n",
      "2. get_confidence_scores() - Get probability scores\n"
     ]
    }
   ],
   "source": [
    "# Create ensemble.py file\n",
    "ensemble_code = \"\"\"import numpy as np\n",
    "import joblib\n",
    "\n",
    "class IntelligentEnsemble:\n",
    "    '''\n",
    "    Intelligent Ensemble System for Skin Cancer Detection\n",
    "    Combines KNN and Random Forest with smart conflict resolution\n",
    "    '''\n",
    "    \n",
    "    def __init__(self, knn_model_path, rf_model_path, scaler_path):\n",
    "        '''Load saved models'''\n",
    "        self.knn_model = joblib.load(knn_model_path)\n",
    "        self.rf_model = joblib.load(rf_model_path)\n",
    "        self.scaler = joblib.load(scaler_path)\n",
    "        \n",
    "    def predict_single(self, features):\n",
    "        '''\n",
    "        Make prediction using intelligent ensemble\n",
    "        \n",
    "        Parameters:\n",
    "        - features: numpy array [age, sex_encoded, asymmetry, border, compactness]\n",
    "        \n",
    "        Returns:\n",
    "        - ensemble_prediction: 0 (Benign) or 1 (Malignant)\n",
    "        - knn_prediction: KNN prediction\n",
    "        - rf_prediction: RF prediction\n",
    "        - decision_reason: Why ensemble chose this prediction\n",
    "        '''\n",
    "        # Scale features\n",
    "        features_scaled = self.scaler.transform(features)\n",
    "        \n",
    "        # Get predictions from both models\n",
    "        knn_pred = self.knn_model.predict(features_scaled)[0]\n",
    "        rf_pred = self.rf_model.predict(features_scaled)[0]\n",
    "        \n",
    "        # If they agree, easy decision\n",
    "        if knn_pred == rf_pred:\n",
    "            return int(knn_pred), int(knn_pred), int(rf_pred), \"Both models agree\"\n",
    "        \n",
    "        # If they disagree, use intelligent conflict resolution\n",
    "        # Based on discovery: KNN better for high asymmetry, RF better for low asymmetry\n",
    "        asymmetry = features_scaled[0, 2]  # asymmetry is 3rd feature (index 2)\n",
    "        \n",
    "        if asymmetry > 0:  # High asymmetry (complex lesion)\n",
    "            ensemble_pred = knn_pred\n",
    "            reason = \"KNN trusted (high asymmetry lesion - KNN specialization)\"\n",
    "        else:  # Low asymmetry (simple lesion)\n",
    "            ensemble_pred = rf_pred\n",
    "            reason = \"RF trusted (low asymmetry lesion - RF specialization)\"\n",
    "        \n",
    "        return int(ensemble_pred), int(knn_pred), int(rf_pred), reason\n",
    "    \n",
    "    def get_confidence_scores(self, features):\n",
    "        '''\n",
    "        Get probability scores from models\n",
    "        \n",
    "        Returns:\n",
    "        - knn_proba: KNN probability for each class\n",
    "        - rf_proba: RF probability for each class\n",
    "        '''\n",
    "        features_scaled = self.scaler.transform(features)\n",
    "        \n",
    "        try:\n",
    "            knn_proba = self.knn_model.predict_proba(features_scaled)[0]\n",
    "            rf_proba = self.rf_model.predict_proba(features_scaled)[0]\n",
    "            return knn_proba, rf_proba\n",
    "        except:\n",
    "            # If models don't support predict_proba, return None\n",
    "            return None, None\n",
    "\"\"\"\n",
    "\n",
    "# Write to file\n",
    "with open('skin_cancer_app/utils/ensemble.py', 'w') as f:\n",
    "    f.write(ensemble_code)\n",
    "\n",
    "print(\"✅ ensemble.py created!\")\n",
    "print(\"\\nFile location: skin_cancer_app/utils/ensemble.py\")\n",
    "print(\"\\nClass included:\")\n",
    "print(\"- IntelligentEnsemble: Smart conflict resolution system\")\n",
    "print(\"\\nMethods:\")\n",
    "print(\"1. predict_single() - Make intelligent prediction\")\n",
    "print(\"2. get_confidence_scores() - Get probability scores\")"
   ]
  },
  {
   "cell_type": "code",
   "execution_count": null,
   "id": "1e7349e0",
   "metadata": {},
   "outputs": [
    {
     "name": "stdout",
     "output_type": "stream",
     "text": [
      "✅ app.py created!\n",
      "\n",
      "File location: skin_cancer_app/app.py\n",
      "\n",
      "Gradio app includes:\n",
      "- Image upload interface\n",
      "- Age and sex inputs\n",
      "- Shows all 3 predictions (KNN, RF, Ensemble)\n",
      "- Displays decision reasoning\n",
      "- Professional medical interface\n"
     ]
    }
   ],
   "source": [
    "# Create app.py file\n",
    "app_code = \"\"\"import gradio as gr\n",
    "import sys\n",
    "import os\n",
    "\n",
    "# Add utils to path\n",
    "sys.path.append('utils')\n",
    "\n",
    "from feature_extraction import extract_features_for_prediction\n",
    "from ensemble import IntelligentEnsemble\n",
    "\n",
    "# Load ensemble model\n",
    "ensemble = IntelligentEnsemble(\n",
    "    knn_model_path='models/knn_model.pkl',\n",
    "    rf_model_path='models/rf_model.pkl',\n",
    "    scaler_path='models/scaler.pkl'\n",
    ")\n",
    "\n",
    "def predict_skin_cancer(image, age, sex):\n",
    "    '''\n",
    "    Main prediction function for Gradio interface\n",
    "    \n",
    "    Parameters:\n",
    "    - image: uploaded image file\n",
    "    - age: patient age (number)\n",
    "    - sex: patient sex (dropdown)\n",
    "    \n",
    "    Returns:\n",
    "    - Formatted prediction results\n",
    "    '''\n",
    "    try:\n",
    "        # Save uploaded image temporarily\n",
    "        temp_image_path = \"temp_lesion.jpg\"\n",
    "        image.save(temp_image_path)\n",
    "        \n",
    "        # Extract features\n",
    "        features = extract_features_for_prediction(temp_image_path, age, sex)\n",
    "        \n",
    "        # Get predictions\n",
    "        ensemble_pred, knn_pred, rf_pred, reason = ensemble.predict_single(features)\n",
    "        \n",
    "        # Get confidence scores (if available)\n",
    "        knn_proba, rf_proba = ensemble.get_confidence_scores(features)\n",
    "        \n",
    "        # Format output\n",
    "        result = f\\\"\\\"\\\"\n",
    "### 🔬 PREDICTION RESULTS\n",
    "\n",
    "#### 🎯 Final Ensemble Prediction: **{'MALIGNANT ⚠️' if ensemble_pred == 1 else 'BENIGN ✅'}**\n",
    "\n",
    "---\n",
    "\n",
    "#### 📊 Individual Model Predictions:\n",
    "\n",
    "**KNN Model:** {'Malignant' if knn_pred == 1 else 'Benign'}\n",
    "**Random Forest Model:** {'Malignant' if rf_pred == 1 else 'Benign'}\n",
    "\n",
    "---\n",
    "\n",
    "#### 🧠 Decision Logic:\n",
    "{reason}\n",
    "\n",
    "---\n",
    "\n",
    "#### 📈 Model Performance:\n",
    "- **Ensemble Accuracy:** 69%\n",
    "- **Ensemble F1 Score:** 71.5%\n",
    "- **Malignant Detection Rate:** 79%\n",
    "\n",
    "---\n",
    "\n",
    "#### ⚠️ Medical Disclaimer:\n",
    "This is an AI research tool. Always consult a dermatologist for proper diagnosis.\n",
    "        \\\"\\\"\\\"\n",
    "        \n",
    "        # Clean up temp file\n",
    "        if os.path.exists(temp_image_path):\n",
    "            os.remove(temp_image_path)\n",
    "        \n",
    "        return result\n",
    "        \n",
    "    except Exception as e:\n",
    "        return f\"Error processing image: {str(e)}\"\n",
    "\n",
    "\n",
    "# Create Gradio interface\n",
    "demo = gr.Interface(\n",
    "    fn=predict_skin_cancer,\n",
    "    inputs=[\n",
    "        gr.Image(type=\"pil\", label=\"Upload Skin Lesion Image\"),\n",
    "        gr.Number(label=\"Patient Age\", value=50, minimum=0, maximum=120),\n",
    "        gr.Dropdown(choices=[\"male\", \"female\"], label=\"Patient Sex\", value=\"female\")\n",
    "    ],\n",
    "    outputs=gr.Markdown(label=\"Prediction Results\"),\n",
    "    title=\"🏥 Intelligent Skin Cancer Detection System\",\n",
    "    description=\\\"\\\"\\\"\n",
    "    ### Multi-Model Ensemble with Smart Conflict Resolution\n",
    "    \n",
    "    This system uses:\n",
    "    - **KNN** (specialized for complex, irregular lesions)\n",
    "    - **Random Forest** (specialized for simple, symmetric lesions)\n",
    "    - **Intelligent Decision Logic** (chooses which model to trust based on lesion characteristics)\n",
    "    \n",
    "    **Upload a dermoscopic image** and provide patient information to get a prediction.\n",
    "    \\\"\\\"\\\",\n",
    "    examples=[\n",
    "        # Add example images here if you have them\n",
    "    ],\n",
    "    theme=gr.themes.Soft()\n",
    ")\n",
    "\n",
    "if __name__ == \"__main__\":\n",
    "    demo.launch(share=True)\n",
    "\"\"\"\n",
    "\n",
    "# Write to file\n",
    "with open('skin_cancer_app/app.py', 'w', encoding='utf-8') as f:\n",
    "    f.write(app_code)\n",
    "\n",
    "print(\"✅ app.py created!\")\n",
    "print(\"\\nFile location: skin_cancer_app/app.py\")\n",
    "print(\"\\nGradio app includes:\")\n",
    "print(\"- Image upload interface\")\n",
    "print(\"- Age and sex inputs\")\n",
    "print(\"- Shows all 3 predictions (KNN, RF, Ensemble)\")\n",
    "print(\"- Displays decision reasoning\")\n",
    "print(\"- Professional medical interface\")"
   ]
  },
  {
   "cell_type": "code",
   "execution_count": 58,
   "id": "2a1f3cd1",
   "metadata": {},
   "outputs": [
    {
     "name": "stdout",
     "output_type": "stream",
     "text": [
      "Scaler expects this many features: 7\n",
      "\n",
      "Features you used for training:\n",
      "Feature names and count\n"
     ]
    }
   ],
   "source": [
    "# Check what features your scaler expects\n",
    "print(\"Scaler expects this many features:\", scalar.n_features_in_)\n",
    "\n",
    "# Check what features you used in final training\n",
    "print(\"\\nFeatures you used for training:\")\n",
    "print(\"Feature names and count\")"
   ]
  },
  {
   "cell_type": "code",
   "execution_count": 1,
   "id": "eb26a0a4",
   "metadata": {},
   "outputs": [
    {
     "name": "stdout",
     "output_type": "stream",
     "text": [
      "✅ requirements.txt created!\n"
     ]
    }
   ],
   "source": [
    "requirements_txt = \"\"\"gradio==4.44.0\n",
    "opencv-python-headless==4.8.1.78\n",
    "numpy==1.24.3\n",
    "scikit-learn==1.3.0\n",
    "joblib==1.3.2\n",
    "Pillow==10.0.0\n",
    "\"\"\"\n",
    "\n",
    "# Save to file\n",
    "with open('skin_cancer_app/requirements.txt', 'w') as f:\n",
    "    f.write(requirements_txt)\n",
    "\n",
    "print(\"✅ requirements.txt created!\")"
   ]
  },
  {
   "cell_type": "code",
   "execution_count": 3,
   "id": "2ae50fd8",
   "metadata": {},
   "outputs": [
    {
     "name": "stdout",
     "output_type": "stream",
     "text": [
      "✅ README.md created!\n"
     ]
    }
   ],
   "source": [
    "readme_md = \"\"\"---\n",
    "title: Intelligent Skin Cancer Detection\n",
    "emoji: 🏥\n",
    "colorFrom: blue\n",
    "colorTo: purple\n",
    "sdk: gradio\n",
    "sdk_version: 4.44.0\n",
    "app_file: app.py\n",
    "pinned: false\n",
    "---\n",
    "\n",
    "# 🏥 Intelligent Skin Cancer Detection System\n",
    "\n",
    "An AI-powered skin cancer detection system using intelligent ensemble learning.\n",
    "\n",
    "## 🎯 What This Does\n",
    "\n",
    "Detects **skin cancer** in dermoscopic lesion images by classifying them as:\n",
    "- **Malignant** (cancerous - needs urgent attention)\n",
    "- **Benign** (non-cancerous - safe to monitor)\n",
    "\n",
    "## 🧠 How It Works\n",
    "\n",
    "Uses an intelligent ensemble of:\n",
    "- **KNN** (K-Nearest Neighbors) - specialized for complex, irregular lesions\n",
    "- **Random Forest** - specialized for simple, symmetric lesions\n",
    "- **Smart Conflict Resolution** - analyzes lesion characteristics to decide which model to trust\n",
    "\n",
    "## 📊 Performance\n",
    "\n",
    "- **Accuracy:** 69%\n",
    "- **F1 Score:** 71.5%\n",
    "- **Malignant Detection Rate:** 79%\n",
    "\n",
    "## ⚠️ Important Notes\n",
    "\n",
    "- Upload **dermoscopic images of skin lesions ONLY**\n",
    "- Do NOT upload normal skin or other skin conditions\n",
    "- This is a research/screening tool - always consult a dermatologist for proper diagnosis\n",
    "\n",
    "## 🔬 Technical Details\n",
    "\n",
    "- **Dataset:** ISIC 2017 (748 balanced images)\n",
    "- **Features:** 7 medical features (age, sex, diameter, asymmetry, color variation, border irregularity, compactness)\n",
    "- **Novel Approach:** Context-aware conflict resolution based on lesion characteristics\n",
    "\n",
    "## 👨‍💻 Developer\n",
    "\n",
    "Built as a research project in AI/ML medical image analysis.\n",
    "\"\"\"\n",
    "\n",
    "with open('skin_cancer_app/README.md', 'w',encoding='utf-8') as f:\n",
    "    f.write(readme_md)\n",
    "\n",
    "print(\"✅ README.md created!\")"
   ]
  },
  {
   "cell_type": "code",
   "execution_count": 5,
   "id": "8d05eebb",
   "metadata": {},
   "outputs": [
    {
     "name": "stdout",
     "output_type": "stream",
     "text": [
      "📁 Checking all required files:\n",
      "\n",
      "✅ skin_cancer_app/app.py\n",
      "✅ skin_cancer_app/requirements.txt\n",
      "✅ skin_cancer_app/README.md\n",
      "✅ skin_cancer_app/models/model_K.pkl\n",
      "✅ skin_cancer_app/models/model_R.pkl\n",
      "✅ skin_cancer_app/models/scalar.pkl\n",
      "✅ skin_cancer_app/utils/feature_extraction.py\n",
      "✅ skin_cancer_app/utils/ensemble.py\n",
      "\n",
      "🎉 All files ready for deployment!\n"
     ]
    }
   ],
   "source": [
    "import os\n",
    "\n",
    "print(\"📁 Checking all required files:\\n\")\n",
    "\n",
    "required_files = [\n",
    "    'skin_cancer_app/app.py',\n",
    "    'skin_cancer_app/requirements.txt',\n",
    "    'skin_cancer_app/README.md',\n",
    "    'skin_cancer_app/models/model_K.pkl',\n",
    "    'skin_cancer_app/models/model_R.pkl',\n",
    "    'skin_cancer_app/models/scalar.pkl',\n",
    "    'skin_cancer_app/utils/feature_extraction.py',\n",
    "    'skin_cancer_app/utils/ensemble.py'\n",
    "]\n",
    "\n",
    "all_exist = True\n",
    "for file in required_files:\n",
    "    exists = os.path.exists(file)\n",
    "    status = \"✅\" if exists else \"❌\"\n",
    "    print(f\"{status} {file}\")\n",
    "    if not exists:\n",
    "        all_exist = False\n",
    "\n",
    "if all_exist:\n",
    "    print(\"\\n🎉 All files ready for deployment!\")\n",
    "else:\n",
    "    print(\"\\n⚠️ Some files are missing!\")"
   ]
  },
  {
   "cell_type": "code",
   "execution_count": null,
   "id": "8d869cab",
   "metadata": {},
   "outputs": [],
   "source": []
  }
 ],
 "metadata": {
  "kernelspec": {
   "display_name": "ank ss (Python 3.12.7)",
   "language": "python",
   "name": "ank-ss"
  },
  "language_info": {
   "codemirror_mode": {
    "name": "ipython",
    "version": 3
   },
   "file_extension": ".py",
   "mimetype": "text/x-python",
   "name": "python",
   "nbconvert_exporter": "python",
   "pygments_lexer": "ipython3",
   "version": "3.13.1"
  }
 },
 "nbformat": 4,
 "nbformat_minor": 5
}
